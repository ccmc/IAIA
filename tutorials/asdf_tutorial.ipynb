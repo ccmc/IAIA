{
 "cells": [
  {
   "cell_type": "code",
   "execution_count": null,
   "metadata": {
    "collapsed": false,
    "slideshow": {
     "slide_type": "skip"
    }
   },
   "outputs": [
    {
     "name": "stdout",
     "output_type": "stream",
     "text": [
      "[NbConvertApp] Converting notebook asdf tutorial.ipynb to slides\n",
      "[NbConvertApp] Writing 315966 bytes to asdf tutorial.slides.html\n",
      "[NbConvertApp] Redirecting reveal.js requests to https://cdnjs.cloudflare.com/ajax/libs/reveal.js/3.1.0\n",
      "Serving your slides at http://127.0.0.1:8000/asdf tutorial.slides.html\n",
      "Use Control-C to stop this server\n",
      "WARNING:tornado.access:404 GET /custom.css (127.0.0.1) 1.75ms\n",
      "WARNING:tornado.access:404 GET /custom.css (127.0.0.1) 0.69ms\n"
     ]
    }
   ],
   "source": [
    "!jupyter nbconvert --to='slides' asdf\\ tutorial.ipynb --post serve"
   ]
  },
  {
   "cell_type": "markdown",
   "metadata": {
    "slideshow": {
     "slide_type": "slide"
    }
   },
   "source": [
    "# Introduction to ASDF\n",
    "\n",
    "Paper - ASDF: A new data format for astronomy\n",
    "http://dx.doi.org/10.1016/j.ascom.2015.06.004\n",
    "\n",
    "## Why another data format?\n",
    "\n",
    "Shortcomings of FITS are becoming burdensome: \n",
    "* restrictions on keyword name length led to restricting the order of polynomials used (not enough characters for more than 1 digit)\n",
    "* Namespace collisions led to lack of transformation concatenation\n",
    "* lack of simple grouping structure\n",
    "* Conventions for workarounds have been implimented, but these are not standardized"
   ]
  },
  {
   "cell_type": "markdown",
   "metadata": {
    "slideshow": {
     "slide_type": "subslide"
    }
   },
   "source": [
    "## What about alternatives?\n",
    "\n",
    "### VOTable\n",
    "\n",
    "Strengths: XML, can leverage correspoonding reader and validation libraies.\n",
    "\n",
    "Weaknesses\n",
    "\n",
    "* No intrinsic support for efficiently handling binary data\n",
    "* can't do memory mapping for files too large to fit in memory\n",
    "* can refer to FITS, but doesn't solve FITS's problems\n",
    "* Does not allow for additional structured metadata beyond description of tabular data (free text wouldn't be sufficient to describe World Coordinate System transformations)"
   ]
  },
  {
   "cell_type": "markdown",
   "metadata": {
    "slideshow": {
     "slide_type": "subslide"
    }
   },
   "source": [
    "### HDF5\n",
    "\n",
    "Strengths\n",
    "\n",
    "* Flexible, used by a much broader community, perhaps strongest alternative to FITS\n",
    "\n",
    "Weaknesses (relative to FITS)\n",
    "\n",
    "* Entirely binary - FITS headers were are atleast human readable.\n",
    "* All inspection must be done through HDF5 software\n",
    "* FITS is largely self documenting, while HDF5 spec is lengthy and complex (125 pages)\n",
    "* Complexity results in ~1 implimenation.. more likely to deviate from spec\n",
    "* HDF format kept changing, so it was less appropriate for archival format\n",
    "* Does not support simpler, text based data files\n",
    "* HDF5 Abstract Data Model was not flexible enough to represent generalized WCS\n",
    "* Arbitrary restriction on nesting of data structures\n",
    "    * Data types do not include a variable-length mapping datatype (analogous to dict or js object)\n",
    "    * Groups can not be nested in variable-length arrays, only within each other\n",
    "    * Compound data dtypes cannoot contain other \"compound\" types or variable-length arrays"
   ]
  },
  {
   "cell_type": "markdown",
   "metadata": {
    "slideshow": {
     "slide_type": "subslide"
    }
   },
   "source": [
    "## Problems with others\n",
    "\n",
    "* CDF \n",
    "    * purely binary\n",
    "    * no supportfor grouping, hierarchical structures\n",
    "    * no references\n",
    "* netCDF \n",
    "    * Also purely binary\n",
    "    * Does not support references or compression\n",
    "    * V.3 does not support hiearchical grouping\n",
    "    * V.4 is layered on hdf5, so inherits most of HDF5's issues, although fewer features and simpler api\n",
    "* Starlink - does not support 64-bit dimension sizes, table structures organized by row, nor compression\n",
    "* XDF -  like VOTable, suffers from inability to store raw binary, dev halted in 2006\n",
    "* FITSXML - embeds FITS in xml, but shares similar restrictions wrt grouping and metadata\n"
   ]
  },
  {
   "cell_type": "markdown",
   "metadata": {
    "slideshow": {
     "slide_type": "slide"
    }
   },
   "source": [
    "### ASDF Design goals\n",
    "\n",
    "Main focus is on data interchange and archive sutability while maintinaing level of efficiency of FITS. They are not prioritizing throughput - expect tools to convert from ASDF to HDF5 where necessary."
   ]
  },
  {
   "cell_type": "markdown",
   "metadata": {
    "slideshow": {
     "slide_type": "subslide"
    }
   },
   "source": [
    "1. Structure\n",
    "    1. Intrinsic hierarchical structure - syntax makes structure apparent\n",
    "    2. Human-readable\n",
    "    3. Based on an existing standard\n",
    "    4. Support for references - can refer to same object from multiple locations in the file\n",
    "    5. No arbitrary limits where possible\n",
    "    6. Efficient updating\n",
    "\n",
    "2. Qualities for numerical Data\n",
    "    1. Support both text and binary, where binary may be stored raw. Text should be human-editable\n",
    "    2. Machine independent (endianess)\n",
    "    3. Structured - binary fits insised of structured hierachy\n",
    "    4. Multiple binary sections possible\n",
    "    5. n-dimensional arrays and tables\n",
    "    6. Intrinsic support for reading/writing streams\n",
    "3. Interoperability\n",
    "    1. Explicit versioning for both the format and the individual stritures within it\n",
    "    2. Explicit extensibiility - domain specific extensions without interference\n",
    "    3. Validation - support a schema language that enables semantic validation of type and structure of objects. leverage existing validation toolsets. Enable schema validation for domain-specific extensions\n",
    "    "
   ]
  },
  {
   "cell_type": "markdown",
   "metadata": {
    "slideshow": {
     "slide_type": "subslide"
    }
   },
   "source": [
    "## ASDF Structure\n",
    "\n",
    "One-line header indicating asdf and version\n",
    "\n",
    "YAML \"tree\": Yet Another Markup Language (YAML)\n",
    "* natively supports strings, numbers, booleans, null\n",
    "* arbitrary nesting of mappings, sequences\n",
    "* Similar to json, but structure more concise and human readable - can use indentation and/or delimiters\n",
    "* has explicit type designations (YAML tags)\n",
    "    * example: !wcs/steps -> validation performed against schema definition for that tag\n",
    "* Supported by major programming languages\n",
    "* Supports references \n",
    "    * \"anchors\": object->label  \n",
    "    * \"alias\": label->object\n",
    "\n",
    "Binary Sections: Defined by supportin yaml schemas"
   ]
  },
  {
   "cell_type": "markdown",
   "metadata": {
    "slideshow": {
     "slide_type": "skip"
    }
   },
   "source": [
    "# Motivation\n",
    "\n",
    "Kameleon is known as a data standard for the space weather community. Operationally, that means we \n",
    "\n",
    "* write conversion software that puts the scientist's model results into cdf or hdf5 format\n",
    "* provide tools for cracking open and interpolating from the resulting files\n",
    "* we host model results for the public (read scientists') consumption."
   ]
  },
  {
   "cell_type": "markdown",
   "metadata": {
    "slideshow": {
     "slide_type": "skip"
    }
   },
   "source": [
    "## Problems with our current standard\n",
    "\n",
    "At the time the CCMC started, we chose to provide a common interface into the model results and to add our own metadata to the hosted results. There are a few problems with this approach\n",
    "\n",
    "1. this approach is very labor intensive - unless the Kameleon developers add the model, it doesn't get supported.\n",
    "2. the demand for bringing in new models is growing and we are constantly being asked to support more models. \n",
    "3. The cdf/hdf5 format requires the user to have specialized software just to view metadata.\n",
    "4. While cdf/hdf5 standard is highly optimized for heavy models, it is overkill for many others."
   ]
  },
  {
   "cell_type": "markdown",
   "metadata": {
    "slideshow": {
     "slide_type": "skip"
    }
   },
   "source": [
    "## Meanwhile.. IDL ROR Vis\n",
    "\n",
    "For years, Lutz has been developing IDL readers and interpolators for all models currently in the Runs-on-Request system. Lutz's scripts convert the model results into a general N-D data structure, which his interpolators understand...\n",
    "\n",
    "** Idea: use Lutz's format, but store results in ASDF **."
   ]
  },
  {
   "cell_type": "markdown",
   "metadata": {
    "slideshow": {
     "slide_type": "skip"
    }
   },
   "source": [
    "## Defining a format?\n",
    "\n",
    "Our goal is to make it easy to bring space weather models into kameleon. We do this by either:\n",
    "\n",
    "* defining a reader/interpolator in code\n",
    "* by explicitly defining a file format (asdf)\n",
    "\n",
    "Since Lutz has already created a format for reading the models into IDL, we are targeting a file format for him to write to."
   ]
  },
  {
   "cell_type": "markdown",
   "metadata": {
    "slideshow": {
     "slide_type": "skip"
    }
   },
   "source": [
    "# Why ASDF\n",
    "\n",
    "https://asdf.readthedocs.io/en/latest/\n",
    "\n",
    "* A Flexible file format for scientific data\n",
    "* Uses YAML to store metadata and provenance info.\n",
    "* Arrays stored in the same file or separately\n",
    "* On Load, multiple all files treated as one"
   ]
  },
  {
   "cell_type": "markdown",
   "metadata": {
    "slideshow": {
     "slide_type": "slide"
    }
   },
   "source": [
    "## Hello World"
   ]
  },
  {
   "cell_type": "code",
   "execution_count": 2,
   "metadata": {
    "collapsed": true,
    "slideshow": {
     "slide_type": "skip"
    }
   },
   "outputs": [],
   "source": [
    "mkdir -p hello_world"
   ]
  },
  {
   "cell_type": "code",
   "execution_count": 3,
   "metadata": {
    "collapsed": true,
    "slideshow": {
     "slide_type": "fragment"
    }
   },
   "outputs": [],
   "source": [
    "from asdf import AsdfFile\n",
    "\n",
    "# Make the tree structure, and create a AsdfFile from it.\n",
    "tree = {'hello': 'world'}\n",
    "ff = AsdfFile(tree)\n",
    "ff.write_to(\"hello_world/test.asdf\")\n",
    "\n",
    "# You can also make the AsdfFile first, and modify its tree directly:\n",
    "ff = AsdfFile()\n",
    "ff.tree['hello'] = 'world'\n",
    "ff.write_to(\"hello_world/test_hello_world.asdf\")"
   ]
  },
  {
   "cell_type": "code",
   "execution_count": 4,
   "metadata": {
    "collapsed": false,
    "slideshow": {
     "slide_type": "fragment"
    }
   },
   "outputs": [
    {
     "name": "stdout",
     "output_type": "stream",
     "text": [
      "#ASDF 1.0.0\r\n",
      "#ASDF_STANDARD 1.0.0\r\n",
      "%YAML 1.1\r\n",
      "%TAG ! tag:stsci.edu:asdf/\r\n",
      "--- !core/asdf-1.0.0\r\n",
      "asdf_library: !core/software-1.0.0 {author: Space Telescope Science Institute, homepage: 'http://github.com/spacetelescope/asdf',\r\n",
      "  name: asdf, version: 1.1.0}\r\n",
      "hello: world\r\n",
      "...\r\n"
     ]
    }
   ],
   "source": [
    "cat hello_world/test.asdf"
   ]
  },
  {
   "cell_type": "code",
   "execution_count": 17,
   "metadata": {
    "collapsed": false,
    "slideshow": {
     "slide_type": "skip"
    }
   },
   "outputs": [
    {
     "name": "stdout",
     "output_type": "stream",
     "text": [
      "#ASDF 1.0.0\r\n",
      "#ASDF_STANDARD 1.0.0\r\n",
      "%YAML 1.1\r\n",
      "%TAG ! tag:stsci.edu:asdf/\r\n",
      "--- !core/asdf-1.0.0\r\n",
      "asdf_library: !core/software-1.0.0 {author: Space Telescope Science Institute, homepage: 'http://github.com/spacetelescope/asdf',\r\n",
      "  name: asdf, version: 1.1.0}\r\n",
      "hello: world\r\n",
      "...\r\n"
     ]
    }
   ],
   "source": [
    "cat hello_world/test_hello_world.asdf"
   ]
  },
  {
   "cell_type": "markdown",
   "metadata": {
    "slideshow": {
     "slide_type": "subslide"
    }
   },
   "source": [
    "## Storing Arrays"
   ]
  },
  {
   "cell_type": "code",
   "execution_count": null,
   "metadata": {
    "collapsed": true,
    "slideshow": {
     "slide_type": "skip"
    }
   },
   "outputs": [],
   "source": [
    "mkdir -p array_storage"
   ]
  },
  {
   "cell_type": "code",
   "execution_count": null,
   "metadata": {
    "collapsed": true,
    "slideshow": {
     "slide_type": "fragment"
    }
   },
   "outputs": [],
   "source": [
    "from asdf import AsdfFile\n",
    "import numpy as np\n",
    "\n",
    "tree = {'my_array': np.random.rand(8, 8)}\n",
    "ff = AsdfFile(tree)\n",
    "ff.write_to(\"array_storage/test_arrays.asdf\")"
   ]
  },
  {
   "cell_type": "code",
   "execution_count": 18,
   "metadata": {
    "collapsed": false,
    "slideshow": {
     "slide_type": "fragment"
    }
   },
   "outputs": [
    {
     "name": "stdout",
     "output_type": "stream",
     "text": [
      "#ASDF 1.0.0\r\n",
      "#ASDF_STANDARD 1.0.0\r\n",
      "%YAML 1.1\r\n",
      "%TAG ! tag:stsci.edu:asdf/\r\n",
      "--- !core/asdf-1.0.0\r\n",
      "asdf_library: !core/software-1.0.0 {author: Space Telescope Science Institute, homepage: 'http://github.com/spacetelescope/asdf',\r\n",
      "  name: asdf, version: 1.1.0}\r\n",
      "my_array: !core/ndarray-1.0.0\r\n",
      "  source: 0\r\n",
      "  datatype: float64\r\n",
      "  byteorder: little\r\n",
      "  shape: [8, 8]\r\n",
      "...\r\n",
      "�BLK\u00000\u0000\u0000\u0000\u0000\u0000\u0000\u0000\u0000\u0000\u0000\u0000\u0000\u0000\u0000\u0002\u0000\u0000\u0000\u0000\u0000\u0000\u0000\u0002\u0000\u0000\u0000\u0000\u0000\u0000\u0000\u0002\u0000%\u0001Z?8\u0012Fݤ�\u000b",
      "\u0012���`�v�A��?�H3�UR�?�C]��N�?@\\�\u0007bd�?0b@�#ӯ?�\u0005�l�\u0004�?bS'�\u0018��?\u001a�\r\n",
      "\u0017���?�Li�\u000b",
      "�?U�|6C�?J��\u001c",
      "�?pw�Ar��?ld]^%��?�ܖ�db�?�}��_��?��~��9�?_��V+]�?��P��k�?��\u0000�O��?��:��8�?�U#Fx*�?�\u0018eXP��?^�9�:��?\u0010#ms�λ?��!�v1�?Є\u0015��#�?y��K��?\"�R}=�?-*E����?-7��PW�?ʸ\u001a��\"�?\u0013?s�\f",
      "\u0010�?�t1Z`�?���7�%�?d�Y����?z\u001c",
      "�Ɯ��?�b�\u0014?��?�ΐ\u0007\\\r",
      "�?>Q3����?x$��'\u0012�?��\u0002+/d�?�(?Z�t�?g\u0013�Te��?\u0018��\u0000s�?Ei]1���?Ȕ�,�-�?�W�\t�\u0001�?\u001f4H\u000e�\u0011�?�,�j���?�v�����?\u0014�G�z.�?^?k%���?<�EM\u0017��?�\u0013�\u0007��?�4r����?�\f",
      "\u001f\t\u0010��?\u0002Ҕ�T��?\u001d",
      "FV6@'�?7/\u0004>�`�?��O\u000b",
      "\u0004��?\\yp�\u001b\u0016�?@\u001a*�^�?8\u00079��\r",
      "�?��;k��?#ASDF BLOCK INDEX\r\n",
      "%YAML 1.1\r\n",
      "--- [353]\r\n",
      "...\r\n"
     ]
    }
   ],
   "source": [
    "cat array_storage/test_arrays.asdf"
   ]
  },
  {
   "cell_type": "markdown",
   "metadata": {
    "slideshow": {
     "slide_type": "skip"
    }
   },
   "source": [
    "## Schema validation\n",
    "\n",
    "ASDF prevents files from being instantiated or saved with data not supported by a given schema."
   ]
  },
  {
   "cell_type": "code",
   "execution_count": null,
   "metadata": {
    "collapsed": false,
    "slideshow": {
     "slide_type": "skip"
    }
   },
   "outputs": [],
   "source": [
    "from asdf import ValidationError"
   ]
  },
  {
   "cell_type": "code",
   "execution_count": null,
   "metadata": {
    "collapsed": false,
    "slideshow": {
     "slide_type": "skip"
    }
   },
   "outputs": [],
   "source": [
    "from asdf import AsdfFile\n",
    "tree = {'data': 'Not an array'}\n",
    "\n",
    "try:\n",
    "    AsdfFile(tree)\n",
    "except:\n",
    "    raise ValidationError('data needs an array!')"
   ]
  },
  {
   "cell_type": "markdown",
   "metadata": {
    "slideshow": {
     "slide_type": "subslide"
    }
   },
   "source": [
    "## Data Sharing\n",
    "\n",
    "Overlap between data sets can be stored without duplication."
   ]
  },
  {
   "cell_type": "code",
   "execution_count": null,
   "metadata": {
    "collapsed": true,
    "slideshow": {
     "slide_type": "skip"
    }
   },
   "outputs": [],
   "source": [
    "mkdir -p data_sharing"
   ]
  },
  {
   "cell_type": "code",
   "execution_count": null,
   "metadata": {
    "collapsed": false,
    "slideshow": {
     "slide_type": "fragment"
    }
   },
   "outputs": [],
   "source": [
    "from asdf import AsdfFile\n",
    "import numpy as np\n",
    "\n",
    "my_array = np.random.rand(8, 8)\n",
    "subset = my_array[2:4,3:6]\n",
    "tree = {\n",
    "    'my_array': my_array,\n",
    "    'subset':   subset\n",
    "}\n",
    "ff = AsdfFile(tree)\n",
    "ff.write_to(\"data_sharing/test_overlap.asdf\")"
   ]
  },
  {
   "cell_type": "code",
   "execution_count": 20,
   "metadata": {
    "collapsed": false,
    "slideshow": {
     "slide_type": "fragment"
    }
   },
   "outputs": [
    {
     "name": "stdout",
     "output_type": "stream",
     "text": [
      "#ASDF 1.0.0\r\n",
      "#ASDF_STANDARD 1.0.0\r\n",
      "%YAML 1.1\r\n",
      "%TAG ! tag:stsci.edu:asdf/\r\n",
      "--- !core/asdf-1.0.0\r\n",
      "asdf_library: !core/software-1.0.0 {author: Space Telescope Science Institute, homepage: 'http://github.com/spacetelescope/asdf',\r\n",
      "  name: asdf, version: 1.1.0}\r\n",
      "my_array: !core/ndarray-1.0.0\r\n",
      "  source: 0\r\n",
      "  datatype: float64\r\n",
      "  byteorder: little\r\n",
      "  shape: [8, 8]\r\n",
      "subset: !core/ndarray-1.0.0\r\n",
      "  source: 0\r\n",
      "  datatype: float64\r\n",
      "  byteorder: little\r\n",
      "  shape: [2, 3]\r\n",
      "  offset: 152\r\n",
      "  strides: [64, 8]\r\n",
      "...\r\n",
      "�BLK\u00000\u0000\u0000\u0000\u0000\u0000\u0000\u0000\u0000\u0000\u0000\u0000\u0000\u0000\u0000\u0002\u0000\u0000\u0000\u0000\u0000\u0000\u0000\u0002\u0000\u0000\u0000\u0000\u0000\u0000\u0000\u0002\u0000�\u000eЈ\u001b��YZ\\���gX�&@���?�Aq\u0003Ex�?�\u001e",
      "�i/\u0015�?�;�?q\"�?��z]-\b�?%��0�\u0012�? �� ��?\r",
      "j��^��?J\u001c",
      "�pO��?��X��-�?�Z�~#��?0i\b\u0015���?��a\u001c",
      "X\u000f�?:j�$�=�?4�yg�x�?F2�\u000e��?�b\u000b",
      "*`��?�\u0011��i��?�.��;�?�Ӱ~\u000b",
      "\u0011�?��r\u000f}e�?|��A���?��i��2�?X�Ǌ\u0016t�?Λ\u001d",
      "����?z�5ңk�?�������?��P\f",
      "K��?�QD\bg��?A��@���?A^�����?���jM��?_\u0010���0�?����`\u0007�?����+��?��\u0000����?j_ۚư�?6�Ĝ���?`��||2�?\f",
      "\u0018J\"�X�?`:gԢ��?fS%���?\u0000��f�\r",
      "?�p�\\�Y�?G\u0013�t���?r\u0003�ܜ�?�Q�\u0018*��?�Ʉq\f",
      "��?��9\u001a\u0019y�?|z���%�?!�oW���?�e�q���?Y���\u001fZ�?a�u����?�+@\r\n",
      "���?\f",
      "�\u0018�?\u0002X�X\u0017��?�\u000f��U��?zҊ\u0004�|�?�0��$��?�0�^�{�?�\u001b��- �?Z\"Ԧzf�?\u001a߮z���?#ASDF BLOCK INDEX\r\n",
      "%YAML 1.1\r\n",
      "--- [482]\r\n",
      "...\r\n"
     ]
    }
   ],
   "source": [
    "cat data_sharing/test_overlap.asdf"
   ]
  },
  {
   "cell_type": "markdown",
   "metadata": {
    "slideshow": {
     "slide_type": "subslide"
    }
   },
   "source": [
    "# Streaming Data"
   ]
  },
  {
   "cell_type": "code",
   "execution_count": null,
   "metadata": {
    "collapsed": true,
    "slideshow": {
     "slide_type": "skip"
    }
   },
   "outputs": [],
   "source": [
    "mkdir -p streaming_data"
   ]
  },
  {
   "cell_type": "code",
   "execution_count": 31,
   "metadata": {
    "collapsed": false,
    "slideshow": {
     "slide_type": "fragment"
    }
   },
   "outputs": [],
   "source": [
    "from asdf import AsdfFile, Stream\n",
    "import numpy as np\n",
    "\n",
    "tree = {\n",
    "    # Each \"row\" of data will have 128 entries.\n",
    "    'my_stream': Stream([128], np.float64)\n",
    "}\n",
    "\n",
    "ff = AsdfFile(tree)\n",
    "with open('streaming_data/stream_test.asdf', 'wb') as fd:\n",
    "    ff.write_to(fd)\n",
    "    # Write 100 rows of data, one row at a time.  ``write``\n",
    "    # expects the raw binary bytes, not an array, so we use\n",
    "    # ``tostring()``.\n",
    "    for i in range(10):\n",
    "        fd.write(np.array([i] * 128, np.float64).tostring())"
   ]
  },
  {
   "cell_type": "code",
   "execution_count": 32,
   "metadata": {
    "collapsed": false,
    "slideshow": {
     "slide_type": "fragment"
    }
   },
   "outputs": [
    {
     "name": "stdout",
     "output_type": "stream",
     "text": [
      "#ASDF 1.0.0\r\n",
      "#ASDF_STANDARD 1.0.0\r\n",
      "%YAML 1.1\r\n",
      "%TAG ! tag:stsci.edu:asdf/\r\n",
      "--- !core/asdf-1.0.0\r\n",
      "asdf_library: !core/software-1.0.0 {author: Space Telescope Science Institute, homepage: 'http://github.com/spacetelescope/asdf',\r\n",
      "  name: asdf, version: 1.1.0}\r\n",
      "my_stream: !core/ndarray-1.0.0\r\n",
      "  source: -1\r\n",
      "  datatype: float64\r\n",
      "  byteorder: little\r\n",
      "  shape: ['*', 128]\r\n",
      "...\r\n",
      "�BLK\u00000\u0000\u0000\u0000\u0001\u0000\u0000\u0000\u0000\u0000\u0000\u0000\u0000\u0000\u0000\u0000\u0000\u0000\u0000\u0000\u0000\u0000\u0000\u0000\u0000\u0000\u0000\u0000\u0000\u0000\u0000\u0000\u0000\u0000\u0000\u0000\u0000\u0000\u0000\u0000\u0000\u0000\u0000\u0000\u0000\u0000\u0000\u0000\u0000\u0000\u0000\u0000\u0000\u0000\u0000\u0000\u0000\u0000\u0000\u0000\u0000\u0000\u0000\u0000\u0000\u0000\u0000\u0000\u0000\u0000\u0000\u0000\u0000\u0000\u0000\u0000\u0000\u0000\u0000\u0000\u0000\u0000\u0000\u0000\u0000\u0000\u0000\u0000\u0000\u0000\u0000\u0000\u0000\u0000\u0000\u0000\u0000\u0000\u0000\u0000\u0000\u0000\u0000\u0000\u0000\u0000\u0000\u0000\u0000\u0000\u0000\u0000\u0000\u0000\u0000\u0000\u0000\u0000\u0000\u0000\u0000\u0000\u0000\u0000\u0000\u0000\u0000\u0000\u0000\u0000\u0000\u0000\u0000\u0000\u0000\u0000\u0000\u0000\u0000\u0000\u0000\u0000\u0000\u0000\u0000\u0000\u0000\u0000\u0000\u0000\u0000\u0000\u0000\u0000\u0000\u0000\u0000\u0000\u0000\u0000\u0000\u0000\u0000\u0000\u0000\u0000\u0000\u0000\u0000\u0000\u0000\u0000\u0000\u0000\u0000\u0000\u0000\u0000\u0000\u0000\u0000\u0000\u0000\u0000\u0000\u0000\u0000\u0000\u0000\u0000\u0000\u0000\u0000\u0000\u0000\u0000\u0000\u0000\u0000\u0000\u0000\u0000\u0000\u0000\u0000\u0000\u0000\u0000\u0000\u0000\u0000\u0000\u0000\u0000\u0000\u0000\u0000\u0000\u0000\u0000\u0000\u0000\u0000\u0000\u0000\u0000\u0000\u0000\u0000\u0000\u0000\u0000\u0000\u0000\u0000\u0000\u0000\u0000\u0000\u0000\u0000\u0000\u0000\u0000\u0000\u0000\u0000\u0000\u0000\u0000\u0000\u0000\u0000\u0000\u0000\u0000\u0000\u0000\u0000\u0000\u0000\u0000\u0000\u0000\u0000\u0000\u0000\u0000\u0000\u0000\u0000\u0000\u0000\u0000\u0000\u0000\u0000\u0000\u0000\u0000\u0000\u0000\u0000\u0000\u0000\u0000\u0000\u0000\u0000\u0000\u0000\u0000\u0000\u0000\u0000\u0000\u0000\u0000\u0000\u0000\u0000\u0000\u0000\u0000\u0000\u0000\u0000\u0000\u0000\u0000\u0000\u0000\u0000\u0000\u0000\u0000\u0000\u0000\u0000\u0000\u0000\u0000\u0000\u0000\u0000\u0000\u0000\u0000\u0000\u0000\u0000\u0000\u0000\u0000\u0000\u0000\u0000\u0000\u0000\u0000\u0000\u0000\u0000\u0000\u0000\u0000\u0000\u0000\u0000\u0000\u0000\u0000\u0000\u0000\u0000\u0000\u0000\u0000\u0000\u0000\u0000\u0000\u0000\u0000\u0000\u0000\u0000\u0000\u0000\u0000\u0000\u0000\u0000\u0000\u0000\u0000\u0000\u0000\u0000\u0000\u0000\u0000\u0000\u0000\u0000\u0000\u0000\u0000\u0000\u0000\u0000\u0000\u0000\u0000\u0000\u0000\u0000\u0000\u0000\u0000\u0000\u0000\u0000\u0000\u0000\u0000\u0000\u0000\u0000\u0000\u0000\u0000\u0000\u0000\u0000\u0000\u0000\u0000\u0000\u0000\u0000\u0000\u0000\u0000\u0000\u0000\u0000\u0000\u0000\u0000\u0000\u0000\u0000\u0000\u0000\u0000\u0000\u0000\u0000\u0000\u0000\u0000\u0000\u0000\u0000\u0000\u0000\u0000\u0000\u0000\u0000\u0000\u0000\u0000\u0000\u0000\u0000\u0000\u0000\u0000\u0000\u0000\u0000\u0000\u0000\u0000\u0000\u0000\u0000\u0000\u0000\u0000\u0000\u0000\u0000\u0000\u0000\u0000\u0000\u0000\u0000\u0000\u0000\u0000\u0000\u0000\u0000\u0000\u0000\u0000\u0000\u0000\u0000\u0000\u0000\u0000\u0000\u0000\u0000\u0000\u0000\u0000\u0000\u0000\u0000\u0000\u0000\u0000\u0000\u0000\u0000\u0000\u0000\u0000\u0000\u0000\u0000\u0000\u0000\u0000\u0000\u0000\u0000\u0000\u0000\u0000\u0000\u0000\u0000\u0000\u0000\u0000\u0000\u0000\u0000\u0000\u0000\u0000\u0000\u0000\u0000\u0000\u0000\u0000\u0000\u0000\u0000\u0000\u0000\u0000\u0000\u0000\u0000\u0000\u0000\u0000\u0000\u0000\u0000\u0000\u0000\u0000\u0000\u0000\u0000\u0000\u0000\u0000\u0000\u0000\u0000\u0000\u0000\u0000\u0000\u0000\u0000\u0000\u0000\u0000\u0000\u0000\u0000\u0000\u0000\u0000\u0000\u0000\u0000\u0000\u0000\u0000\u0000\u0000\u0000\u0000\u0000\u0000\u0000\u0000\u0000\u0000\u0000\u0000\u0000\u0000\u0000\u0000\u0000\u0000\u0000\u0000\u0000\u0000\u0000\u0000\u0000\u0000\u0000\u0000\u0000\u0000\u0000\u0000\u0000\u0000\u0000\u0000\u0000\u0000\u0000\u0000\u0000\u0000\u0000\u0000\u0000\u0000\u0000\u0000\u0000\u0000\u0000\u0000\u0000\u0000\u0000\u0000\u0000\u0000\u0000\u0000\u0000\u0000\u0000\u0000\u0000\u0000\u0000\u0000\u0000\u0000\u0000\u0000\u0000\u0000\u0000\u0000\u0000\u0000\u0000\u0000\u0000\u0000\u0000\u0000\u0000\u0000\u0000\u0000\u0000\u0000\u0000\u0000\u0000\u0000\u0000\u0000\u0000\u0000\u0000\u0000\u0000\u0000\u0000\u0000\u0000\u0000\u0000\u0000\u0000\u0000\u0000\u0000\u0000\u0000\u0000\u0000\u0000\u0000\u0000\u0000\u0000\u0000\u0000\u0000\u0000\u0000\u0000\u0000\u0000\u0000\u0000\u0000\u0000\u0000\u0000\u0000\u0000\u0000\u0000\u0000\u0000\u0000\u0000\u0000\u0000\u0000\u0000\u0000\u0000\u0000\u0000\u0000\u0000\u0000\u0000\u0000\u0000\u0000\u0000\u0000\u0000\u0000\u0000\u0000\u0000\u0000\u0000\u0000\u0000\u0000\u0000\u0000\u0000\u0000\u0000\u0000\u0000\u0000\u0000\u0000\u0000\u0000\u0000\u0000\u0000\u0000\u0000\u0000\u0000\u0000\u0000\u0000\u0000\u0000\u0000\u0000\u0000\u0000\u0000\u0000\u0000\u0000\u0000\u0000\u0000\u0000\u0000\u0000\u0000\u0000\u0000\u0000\u0000\u0000\u0000\u0000\u0000\u0000\u0000\u0000\u0000\u0000\u0000\u0000\u0000\u0000\u0000\u0000\u0000\u0000\u0000\u0000\u0000\u0000\u0000\u0000\u0000\u0000\u0000\u0000\u0000\u0000\u0000\u0000\u0000\u0000\u0000\u0000\u0000\u0000\u0000\u0000\u0000\u0000\u0000\u0000\u0000\u0000\u0000\u0000\u0000\u0000\u0000\u0000\u0000\u0000\u0000\u0000\u0000\u0000\u0000\u0000\u0000\u0000\u0000\u0000\u0000\u0000\u0000\u0000\u0000\u0000\u0000\u0000\u0000\u0000\u0000\u0000\u0000\u0000\u0000\u0000\u0000\u0000\u0000\u0000\u0000\u0000\u0000\u0000\u0000\u0000\u0000\u0000\u0000\u0000\u0000\u0000\u0000\u0000\u0000\u0000\u0000\u0000\u0000\u0000\u0000\u0000\u0000\u0000\u0000\u0000\u0000\u0000\u0000\u0000\u0000\u0000\u0000\u0000\u0000\u0000\u0000\u0000\u0000\u0000\u0000\u0000\u0000\u0000\u0000\u0000\u0000\u0000\u0000\u0000\u0000\u0000\u0000\u0000\u0000\u0000\u0000\u0000\u0000\u0000\u0000\u0000\u0000\u0000\u0000\u0000\u0000\u0000\u0000\u0000\u0000\u0000\u0000\u0000\u0000\u0000\u0000\u0000\u0000\u0000\u0000\u0000\u0000\u0000\u0000\u0000\u0000\u0000\u0000\u0000\u0000\u0000\u0000\u0000\u0000\u0000\u0000\u0000\u0000\u0000\u0000\u0000\u0000\u0000\u0000\u0000\u0000\u0000\u0000\u0000\u0000\u0000\u0000\u0000\u0000\u0000\u0000\u0000\u0000\u0000\u0000\u0000\u0000\u0000\u0000\u0000\u0000\u0000\u0000\u0000\u0000\u0000\u0000\u0000\u0000\u0000\u0000\u0000\u0000\u0000\u0000\u0000\u0000\u0000\u0000\u0000\u0000\u0000\u0000\u0000\u0000\u0000\u0000\u0000\u0000\u0000\u0000\u0000\u0000\u0000\u0000\u0000\u0000\u0000\u0000\u0000\u0000\u0000\u0000\u0000\u0000\u0000\u0000\u0000\u0000\u0000\u0000\u0000\u0000\u0000\u0000\u0000\u0000\u0000\u0000\u0000\u0000\u0000\u0000\u0000\u0000�?\u0000\u0000\u0000\u0000\u0000\u0000�?\u0000\u0000\u0000\u0000\u0000\u0000�?\u0000\u0000\u0000\u0000\u0000\u0000�?\u0000\u0000\u0000\u0000\u0000\u0000�?\u0000\u0000\u0000\u0000\u0000\u0000�?\u0000\u0000\u0000\u0000\u0000\u0000�?\u0000\u0000\u0000\u0000\u0000\u0000�?\u0000\u0000\u0000\u0000\u0000\u0000�?\u0000\u0000\u0000\u0000\u0000\u0000�?\u0000\u0000\u0000\u0000\u0000\u0000�?\u0000\u0000\u0000\u0000\u0000\u0000�?\u0000\u0000\u0000\u0000\u0000\u0000�?\u0000\u0000\u0000\u0000\u0000\u0000�?\u0000\u0000\u0000\u0000\u0000\u0000�?\u0000\u0000\u0000\u0000\u0000\u0000�?\u0000\u0000\u0000\u0000\u0000\u0000�?\u0000\u0000\u0000\u0000\u0000\u0000�?\u0000\u0000\u0000\u0000\u0000\u0000�?\u0000\u0000\u0000\u0000\u0000\u0000�?\u0000\u0000\u0000\u0000\u0000\u0000�?\u0000\u0000\u0000\u0000\u0000\u0000�?\u0000\u0000\u0000\u0000\u0000\u0000�?\u0000\u0000\u0000\u0000\u0000\u0000�?\u0000\u0000\u0000\u0000\u0000\u0000�?\u0000\u0000\u0000\u0000\u0000\u0000�?\u0000\u0000\u0000\u0000\u0000\u0000�?\u0000\u0000\u0000\u0000\u0000\u0000�?\u0000\u0000\u0000\u0000\u0000\u0000�?\u0000\u0000\u0000\u0000\u0000\u0000�?\u0000\u0000\u0000\u0000\u0000\u0000�?\u0000\u0000\u0000\u0000\u0000\u0000�?\u0000\u0000\u0000\u0000\u0000\u0000�?\u0000\u0000\u0000\u0000\u0000\u0000�?\u0000\u0000\u0000\u0000\u0000\u0000�?\u0000\u0000\u0000\u0000\u0000\u0000�?\u0000\u0000\u0000\u0000\u0000\u0000�?\u0000\u0000\u0000\u0000\u0000\u0000�?\u0000\u0000\u0000\u0000\u0000\u0000�?\u0000\u0000\u0000\u0000\u0000\u0000�?\u0000\u0000\u0000\u0000\u0000\u0000�?\u0000\u0000\u0000\u0000\u0000\u0000�?\u0000\u0000\u0000\u0000\u0000\u0000�?\u0000\u0000\u0000\u0000\u0000\u0000�?\u0000\u0000\u0000\u0000\u0000\u0000�?\u0000\u0000\u0000\u0000\u0000\u0000�?\u0000\u0000\u0000\u0000\u0000\u0000�?\u0000\u0000\u0000\u0000\u0000\u0000�?\u0000\u0000\u0000\u0000\u0000\u0000�?\u0000\u0000\u0000\u0000\u0000\u0000�?\u0000\u0000\u0000\u0000\u0000\u0000�?\u0000\u0000\u0000\u0000\u0000\u0000�?\u0000\u0000\u0000\u0000\u0000\u0000�?\u0000\u0000\u0000\u0000\u0000\u0000�?\u0000\u0000\u0000\u0000\u0000\u0000�?\u0000\u0000\u0000\u0000\u0000\u0000�?\u0000\u0000\u0000\u0000\u0000\u0000�?\u0000\u0000\u0000\u0000\u0000\u0000�?\u0000\u0000\u0000\u0000\u0000\u0000�?\u0000\u0000\u0000\u0000\u0000\u0000�?\u0000\u0000\u0000\u0000\u0000\u0000�?\u0000\u0000\u0000\u0000\u0000\u0000�?\u0000\u0000\u0000\u0000\u0000\u0000�?\u0000\u0000\u0000\u0000\u0000\u0000�?\u0000\u0000\u0000\u0000\u0000\u0000�?\u0000\u0000\u0000\u0000\u0000\u0000�?\u0000\u0000\u0000\u0000\u0000\u0000�?\u0000\u0000\u0000\u0000\u0000\u0000�?\u0000\u0000\u0000\u0000\u0000\u0000�?\u0000\u0000\u0000\u0000\u0000\u0000�?\u0000\u0000\u0000\u0000\u0000\u0000�?\u0000\u0000\u0000\u0000\u0000\u0000�?\u0000\u0000\u0000\u0000\u0000\u0000�?\u0000\u0000\u0000\u0000\u0000\u0000�?\u0000\u0000\u0000\u0000\u0000\u0000�?\u0000\u0000\u0000\u0000\u0000\u0000�?\u0000\u0000\u0000\u0000\u0000\u0000�?\u0000\u0000\u0000\u0000\u0000\u0000�?\u0000\u0000\u0000\u0000\u0000\u0000�?\u0000\u0000\u0000\u0000\u0000\u0000�?\u0000\u0000\u0000\u0000\u0000\u0000�?\u0000\u0000\u0000\u0000\u0000\u0000�?\u0000\u0000\u0000\u0000\u0000\u0000�?\u0000\u0000\u0000\u0000\u0000\u0000�?\u0000\u0000\u0000\u0000\u0000\u0000�?\u0000\u0000\u0000\u0000\u0000\u0000�?\u0000\u0000\u0000\u0000\u0000\u0000�?\u0000\u0000\u0000\u0000\u0000\u0000�?\u0000\u0000\u0000\u0000\u0000\u0000�?\u0000\u0000\u0000\u0000\u0000\u0000�?\u0000\u0000\u0000\u0000\u0000\u0000�?\u0000\u0000\u0000\u0000\u0000\u0000�?\u0000\u0000\u0000\u0000\u0000\u0000�?\u0000\u0000\u0000\u0000\u0000\u0000�?\u0000\u0000\u0000\u0000\u0000\u0000�?\u0000\u0000\u0000\u0000\u0000\u0000�?\u0000\u0000\u0000\u0000\u0000\u0000�?\u0000\u0000\u0000\u0000\u0000\u0000�?\u0000\u0000\u0000\u0000\u0000\u0000�?\u0000\u0000\u0000\u0000\u0000\u0000�?\u0000\u0000\u0000\u0000\u0000\u0000�?\u0000\u0000\u0000\u0000\u0000\u0000�?\u0000\u0000\u0000\u0000\u0000\u0000�?\u0000\u0000\u0000\u0000\u0000\u0000�?\u0000\u0000\u0000\u0000\u0000\u0000�?\u0000\u0000\u0000\u0000\u0000\u0000�?\u0000\u0000\u0000\u0000\u0000\u0000�?\u0000\u0000\u0000\u0000\u0000\u0000�?\u0000\u0000\u0000\u0000\u0000\u0000�?\u0000\u0000\u0000\u0000\u0000\u0000�?\u0000\u0000\u0000\u0000\u0000\u0000�?\u0000\u0000\u0000\u0000\u0000\u0000�?\u0000\u0000\u0000\u0000\u0000\u0000�?\u0000\u0000\u0000\u0000\u0000\u0000�?\u0000\u0000\u0000\u0000\u0000\u0000�?\u0000\u0000\u0000\u0000\u0000\u0000�?\u0000\u0000\u0000\u0000\u0000\u0000�?\u0000\u0000\u0000\u0000\u0000\u0000�?\u0000\u0000\u0000\u0000\u0000\u0000�?\u0000\u0000\u0000\u0000\u0000\u0000�?\u0000\u0000\u0000\u0000\u0000\u0000�?\u0000\u0000\u0000\u0000\u0000\u0000�?\u0000\u0000\u0000\u0000\u0000\u0000�?\u0000\u0000\u0000\u0000\u0000\u0000�?\u0000\u0000\u0000\u0000\u0000\u0000�?\u0000\u0000\u0000\u0000\u0000\u0000�?\u0000\u0000\u0000\u0000\u0000\u0000�?\u0000\u0000\u0000\u0000\u0000\u0000�?\u0000\u0000\u0000\u0000\u0000\u0000\u0000@\u0000\u0000\u0000\u0000\u0000\u0000\u0000@\u0000\u0000\u0000\u0000\u0000\u0000\u0000@\u0000\u0000\u0000\u0000\u0000\u0000\u0000@\u0000\u0000\u0000\u0000\u0000\u0000\u0000@\u0000\u0000\u0000\u0000\u0000\u0000\u0000@\u0000\u0000\u0000\u0000\u0000\u0000\u0000@\u0000\u0000\u0000\u0000\u0000\u0000\u0000@\u0000\u0000\u0000\u0000\u0000\u0000\u0000@\u0000\u0000\u0000\u0000\u0000\u0000\u0000@\u0000\u0000\u0000\u0000\u0000\u0000\u0000@\u0000\u0000\u0000\u0000\u0000\u0000\u0000@\u0000\u0000\u0000\u0000\u0000\u0000\u0000@\u0000\u0000\u0000\u0000\u0000\u0000\u0000@\u0000\u0000\u0000\u0000\u0000\u0000\u0000@\u0000\u0000\u0000\u0000\u0000\u0000\u0000@\u0000\u0000\u0000\u0000\u0000\u0000\u0000@\u0000\u0000\u0000\u0000\u0000\u0000\u0000@\u0000\u0000\u0000\u0000\u0000\u0000\u0000@\u0000\u0000\u0000\u0000\u0000\u0000\u0000@\u0000\u0000\u0000\u0000\u0000\u0000\u0000@\u0000\u0000\u0000\u0000\u0000\u0000\u0000@\u0000\u0000\u0000\u0000\u0000\u0000\u0000@\u0000\u0000\u0000\u0000\u0000\u0000\u0000@\u0000\u0000\u0000\u0000\u0000\u0000\u0000@\u0000\u0000\u0000\u0000\u0000\u0000\u0000@\u0000\u0000\u0000\u0000\u0000\u0000\u0000@\u0000\u0000\u0000\u0000\u0000\u0000\u0000@\u0000\u0000\u0000\u0000\u0000\u0000\u0000@\u0000\u0000\u0000\u0000\u0000\u0000\u0000@\u0000\u0000\u0000\u0000\u0000\u0000\u0000@\u0000\u0000\u0000\u0000\u0000\u0000\u0000@\u0000\u0000\u0000\u0000\u0000\u0000\u0000@\u0000\u0000\u0000\u0000\u0000\u0000\u0000@\u0000\u0000\u0000\u0000\u0000\u0000\u0000@\u0000\u0000\u0000\u0000\u0000\u0000\u0000@\u0000\u0000\u0000\u0000\u0000\u0000\u0000@\u0000\u0000\u0000\u0000\u0000\u0000\u0000@\u0000\u0000\u0000\u0000\u0000\u0000\u0000@\u0000\u0000\u0000\u0000\u0000\u0000\u0000@\u0000\u0000\u0000\u0000\u0000\u0000\u0000@\u0000\u0000\u0000\u0000\u0000\u0000\u0000@\u0000\u0000\u0000\u0000\u0000\u0000\u0000@\u0000\u0000\u0000\u0000\u0000\u0000\u0000@\u0000\u0000\u0000\u0000\u0000\u0000\u0000@\u0000\u0000\u0000\u0000\u0000\u0000\u0000@\u0000\u0000\u0000\u0000\u0000\u0000\u0000@\u0000\u0000\u0000\u0000\u0000\u0000\u0000@\u0000\u0000\u0000\u0000\u0000\u0000\u0000@\u0000\u0000\u0000\u0000\u0000\u0000\u0000@\u0000\u0000\u0000\u0000\u0000\u0000\u0000@\u0000\u0000\u0000\u0000\u0000\u0000\u0000@\u0000\u0000\u0000\u0000\u0000\u0000\u0000@\u0000\u0000\u0000\u0000\u0000\u0000\u0000@\u0000\u0000\u0000\u0000\u0000\u0000\u0000@\u0000\u0000\u0000\u0000\u0000\u0000\u0000@\u0000\u0000\u0000\u0000\u0000\u0000\u0000@\u0000\u0000\u0000\u0000\u0000\u0000\u0000@\u0000\u0000\u0000\u0000\u0000\u0000\u0000@\u0000\u0000\u0000\u0000\u0000\u0000\u0000@\u0000\u0000\u0000\u0000\u0000\u0000\u0000@\u0000\u0000\u0000\u0000\u0000\u0000\u0000@\u0000\u0000\u0000\u0000\u0000\u0000\u0000@\u0000\u0000\u0000\u0000\u0000\u0000\u0000@\u0000\u0000\u0000\u0000\u0000\u0000\u0000@\u0000\u0000\u0000\u0000\u0000\u0000\u0000@\u0000\u0000\u0000\u0000\u0000\u0000\u0000@\u0000\u0000\u0000\u0000\u0000\u0000\u0000@\u0000\u0000\u0000\u0000\u0000\u0000\u0000@\u0000\u0000\u0000\u0000\u0000\u0000\u0000@\u0000\u0000\u0000\u0000\u0000\u0000\u0000@\u0000\u0000\u0000\u0000\u0000\u0000\u0000@\u0000\u0000\u0000\u0000\u0000\u0000\u0000@\u0000\u0000\u0000\u0000\u0000\u0000\u0000@\u0000\u0000\u0000\u0000\u0000\u0000\u0000@\u0000\u0000\u0000\u0000\u0000\u0000\u0000@\u0000\u0000\u0000\u0000\u0000\u0000\u0000@\u0000\u0000\u0000\u0000\u0000\u0000\u0000@\u0000\u0000\u0000\u0000\u0000\u0000\u0000@\u0000\u0000\u0000\u0000\u0000\u0000\u0000@\u0000\u0000\u0000\u0000\u0000\u0000\u0000@\u0000\u0000\u0000\u0000\u0000\u0000\u0000@\u0000\u0000\u0000\u0000\u0000\u0000\u0000@\u0000\u0000\u0000\u0000\u0000\u0000\u0000@\u0000\u0000\u0000\u0000\u0000\u0000\u0000@\u0000\u0000\u0000\u0000\u0000\u0000\u0000@\u0000\u0000\u0000\u0000\u0000\u0000\u0000@\u0000\u0000\u0000\u0000\u0000\u0000\u0000@\u0000\u0000\u0000\u0000\u0000\u0000\u0000@\u0000\u0000\u0000\u0000\u0000\u0000\u0000@\u0000\u0000\u0000\u0000\u0000\u0000\u0000@\u0000\u0000\u0000\u0000\u0000\u0000\u0000@\u0000\u0000\u0000\u0000\u0000\u0000\u0000@\u0000\u0000\u0000\u0000\u0000\u0000\u0000@\u0000\u0000\u0000\u0000\u0000\u0000\u0000@\u0000\u0000\u0000\u0000\u0000\u0000\u0000@\u0000\u0000\u0000\u0000\u0000\u0000\u0000@\u0000\u0000\u0000\u0000\u0000\u0000\u0000@\u0000\u0000\u0000\u0000\u0000\u0000\u0000@\u0000\u0000\u0000\u0000\u0000\u0000\u0000@\u0000\u0000\u0000\u0000\u0000\u0000\u0000@\u0000\u0000\u0000\u0000\u0000\u0000\u0000@\u0000\u0000\u0000\u0000\u0000\u0000\u0000@\u0000\u0000\u0000\u0000\u0000\u0000\u0000@\u0000\u0000\u0000\u0000\u0000\u0000\u0000@\u0000\u0000\u0000\u0000\u0000\u0000\u0000@\u0000\u0000\u0000\u0000\u0000\u0000\u0000@\u0000\u0000\u0000\u0000\u0000\u0000\u0000@\u0000\u0000\u0000\u0000\u0000\u0000\u0000@\u0000\u0000\u0000\u0000\u0000\u0000\u0000@\u0000\u0000\u0000\u0000\u0000\u0000\u0000@\u0000\u0000\u0000\u0000\u0000\u0000\u0000@\u0000\u0000\u0000\u0000\u0000\u0000\u0000@\u0000\u0000\u0000\u0000\u0000\u0000\u0000@\u0000\u0000\u0000\u0000\u0000\u0000\u0000@\u0000\u0000\u0000\u0000\u0000\u0000\u0000@\u0000\u0000\u0000\u0000\u0000\u0000\u0000@\u0000\u0000\u0000\u0000\u0000\u0000\u0000@\u0000\u0000\u0000\u0000\u0000\u0000\u0000@\u0000\u0000\u0000\u0000\u0000\u0000\u0000@\u0000\u0000\u0000\u0000\u0000\u0000\u0000@\u0000\u0000\u0000\u0000\u0000\u0000\u0000@\u0000\u0000\u0000\u0000\u0000\u0000\u0000@\u0000\u0000\u0000\u0000\u0000\u0000\u0000@\u0000\u0000\u0000\u0000\u0000\u0000\u0000@\u0000\u0000\u0000\u0000\u0000\u0000\u0000@\u0000\u0000\u0000\u0000\u0000\u0000\u0000@\u0000\u0000\u0000\u0000\u0000\u0000\u0000@\u0000\u0000\u0000\u0000\u0000\u0000\b@\u0000\u0000\u0000\u0000\u0000\u0000\b@\u0000\u0000\u0000\u0000\u0000\u0000\b@\u0000\u0000\u0000\u0000\u0000\u0000\b@\u0000\u0000\u0000\u0000\u0000\u0000\b@\u0000\u0000\u0000\u0000\u0000\u0000\b@\u0000\u0000\u0000\u0000\u0000\u0000\b@\u0000\u0000\u0000\u0000\u0000\u0000\b@\u0000\u0000\u0000\u0000\u0000\u0000\b@\u0000\u0000\u0000\u0000\u0000\u0000\b@\u0000\u0000\u0000\u0000\u0000\u0000\b@\u0000\u0000\u0000\u0000\u0000\u0000\b@\u0000\u0000\u0000\u0000\u0000\u0000\b@\u0000\u0000\u0000\u0000\u0000\u0000\b@\u0000\u0000\u0000\u0000\u0000\u0000\b@\u0000\u0000\u0000\u0000\u0000\u0000\b@\u0000\u0000\u0000\u0000\u0000\u0000\b@\u0000\u0000\u0000\u0000\u0000\u0000\b@\u0000\u0000\u0000\u0000\u0000\u0000\b@\u0000\u0000\u0000\u0000\u0000\u0000\b@\u0000\u0000\u0000\u0000\u0000\u0000\b@\u0000\u0000\u0000\u0000\u0000\u0000\b@\u0000\u0000\u0000\u0000\u0000\u0000\b@\u0000\u0000\u0000\u0000\u0000\u0000\b@\u0000\u0000\u0000\u0000\u0000\u0000\b@\u0000\u0000\u0000\u0000\u0000\u0000\b@\u0000\u0000\u0000\u0000\u0000\u0000\b@\u0000\u0000\u0000\u0000\u0000\u0000\b@\u0000\u0000\u0000\u0000\u0000\u0000\b@\u0000\u0000\u0000\u0000\u0000\u0000\b@\u0000\u0000\u0000\u0000\u0000\u0000\b@\u0000\u0000\u0000\u0000\u0000\u0000\b@\u0000\u0000\u0000\u0000\u0000\u0000\b@\u0000\u0000\u0000\u0000\u0000\u0000\b@\u0000\u0000\u0000\u0000\u0000\u0000\b@\u0000\u0000\u0000\u0000\u0000\u0000\b@\u0000\u0000\u0000\u0000\u0000\u0000\b@\u0000\u0000\u0000\u0000\u0000\u0000\b@\u0000\u0000\u0000\u0000\u0000\u0000\b@\u0000\u0000\u0000\u0000\u0000\u0000\b@\u0000\u0000\u0000\u0000\u0000\u0000\b@\u0000\u0000\u0000\u0000\u0000\u0000\b@\u0000\u0000\u0000\u0000\u0000\u0000\b@\u0000\u0000\u0000\u0000\u0000\u0000\b@\u0000\u0000\u0000\u0000\u0000\u0000\b@\u0000\u0000\u0000\u0000\u0000\u0000\b@\u0000\u0000\u0000\u0000\u0000\u0000\b@\u0000\u0000\u0000\u0000\u0000\u0000\b@\u0000\u0000\u0000\u0000\u0000\u0000\b@\u0000\u0000\u0000\u0000\u0000\u0000\b@\u0000\u0000\u0000\u0000\u0000\u0000\b@\u0000\u0000\u0000\u0000\u0000\u0000\b@\u0000\u0000\u0000\u0000\u0000\u0000\b@\u0000\u0000\u0000\u0000\u0000\u0000\b@\u0000\u0000\u0000\u0000\u0000\u0000\b@\u0000\u0000\u0000\u0000\u0000\u0000\b@\u0000\u0000\u0000\u0000\u0000\u0000\b@\u0000\u0000\u0000\u0000\u0000\u0000\b@\u0000\u0000\u0000\u0000\u0000\u0000\b@\u0000\u0000\u0000\u0000\u0000\u0000\b@\u0000\u0000\u0000\u0000\u0000\u0000\b@\u0000\u0000\u0000\u0000\u0000\u0000\b@\u0000\u0000\u0000\u0000\u0000\u0000\b@\u0000\u0000\u0000\u0000\u0000\u0000\b@\u0000\u0000\u0000\u0000\u0000\u0000\b@\u0000\u0000\u0000\u0000\u0000\u0000\b@\u0000\u0000\u0000\u0000\u0000\u0000\b@\u0000\u0000\u0000\u0000\u0000\u0000\b@\u0000\u0000\u0000\u0000\u0000\u0000\b@\u0000\u0000\u0000\u0000\u0000\u0000\b@\u0000\u0000\u0000\u0000\u0000\u0000\b@\u0000\u0000\u0000\u0000\u0000\u0000\b@\u0000\u0000\u0000\u0000\u0000\u0000\b@\u0000\u0000\u0000\u0000\u0000\u0000\b@\u0000\u0000\u0000\u0000\u0000\u0000\b@\u0000\u0000\u0000\u0000\u0000\u0000\b@\u0000\u0000\u0000\u0000\u0000\u0000\b@\u0000\u0000\u0000\u0000\u0000\u0000\b@\u0000\u0000\u0000\u0000\u0000\u0000\b@\u0000\u0000\u0000\u0000\u0000\u0000\b@\u0000\u0000\u0000\u0000\u0000\u0000\b@\u0000\u0000\u0000\u0000\u0000\u0000\b@\u0000\u0000\u0000\u0000\u0000\u0000\b@\u0000\u0000\u0000\u0000\u0000\u0000\b@\u0000\u0000\u0000\u0000\u0000\u0000\b@\u0000\u0000\u0000\u0000\u0000\u0000\b@\u0000\u0000\u0000\u0000\u0000\u0000\b@\u0000\u0000\u0000\u0000\u0000\u0000\b@\u0000\u0000\u0000\u0000\u0000\u0000\b@\u0000\u0000\u0000\u0000\u0000\u0000\b@\u0000\u0000\u0000\u0000\u0000\u0000\b@\u0000\u0000\u0000\u0000\u0000\u0000\b@\u0000\u0000\u0000\u0000\u0000\u0000\b@\u0000\u0000\u0000\u0000\u0000\u0000\b@\u0000\u0000\u0000\u0000\u0000\u0000\b@\u0000\u0000\u0000\u0000\u0000\u0000\b@\u0000\u0000\u0000\u0000\u0000\u0000\b@\u0000\u0000\u0000\u0000\u0000\u0000\b@\u0000\u0000\u0000\u0000\u0000\u0000\b@\u0000\u0000\u0000\u0000\u0000\u0000\b@\u0000\u0000\u0000\u0000\u0000\u0000\b@\u0000\u0000\u0000\u0000\u0000\u0000\b@\u0000\u0000\u0000\u0000\u0000\u0000\b@\u0000\u0000\u0000\u0000\u0000\u0000\b@\u0000\u0000\u0000\u0000\u0000\u0000\b@\u0000\u0000\u0000\u0000\u0000\u0000\b@\u0000\u0000\u0000\u0000\u0000\u0000\b@\u0000\u0000\u0000\u0000\u0000\u0000\b@\u0000\u0000\u0000\u0000\u0000\u0000\b@\u0000\u0000\u0000\u0000\u0000\u0000\b@\u0000\u0000\u0000\u0000\u0000\u0000\b@\u0000\u0000\u0000\u0000\u0000\u0000\b@\u0000\u0000\u0000\u0000\u0000\u0000\b@\u0000\u0000\u0000\u0000\u0000\u0000\b@\u0000\u0000\u0000\u0000\u0000\u0000\b@\u0000\u0000\u0000\u0000\u0000\u0000\b@\u0000\u0000\u0000\u0000\u0000\u0000\b@\u0000\u0000\u0000\u0000\u0000\u0000\b@\u0000\u0000\u0000\u0000\u0000\u0000\b@\u0000\u0000\u0000\u0000\u0000\u0000\b@\u0000\u0000\u0000\u0000\u0000\u0000\b@\u0000\u0000\u0000\u0000\u0000\u0000\b@\u0000\u0000\u0000\u0000\u0000\u0000\b@\u0000\u0000\u0000\u0000\u0000\u0000\b@\u0000\u0000\u0000\u0000\u0000\u0000\b@\u0000\u0000\u0000\u0000\u0000\u0000\b@\u0000\u0000\u0000\u0000\u0000\u0000\b@\u0000\u0000\u0000\u0000\u0000\u0000\b@\u0000\u0000\u0000\u0000\u0000\u0000\u0010@\u0000\u0000\u0000\u0000\u0000\u0000\u0010@\u0000\u0000\u0000\u0000\u0000\u0000\u0010@\u0000\u0000\u0000\u0000\u0000\u0000\u0010@\u0000\u0000\u0000\u0000\u0000\u0000\u0010@\u0000\u0000\u0000\u0000\u0000\u0000\u0010@\u0000\u0000\u0000\u0000\u0000\u0000\u0010@\u0000\u0000\u0000\u0000\u0000\u0000\u0010@\u0000\u0000\u0000\u0000\u0000\u0000\u0010@\u0000\u0000\u0000\u0000\u0000\u0000\u0010@\u0000\u0000\u0000\u0000\u0000\u0000\u0010@\u0000\u0000\u0000\u0000\u0000\u0000\u0010@\u0000\u0000\u0000\u0000\u0000\u0000\u0010@\u0000\u0000\u0000\u0000\u0000\u0000\u0010@\u0000\u0000\u0000\u0000\u0000\u0000\u0010@\u0000\u0000\u0000\u0000\u0000\u0000\u0010@\u0000\u0000\u0000\u0000\u0000\u0000\u0010@\u0000\u0000\u0000\u0000\u0000\u0000\u0010@\u0000\u0000\u0000\u0000\u0000\u0000\u0010@\u0000\u0000\u0000\u0000\u0000\u0000\u0010@\u0000\u0000\u0000\u0000\u0000\u0000\u0010@\u0000\u0000\u0000\u0000\u0000\u0000\u0010@\u0000\u0000\u0000\u0000\u0000\u0000\u0010@\u0000\u0000\u0000\u0000\u0000\u0000\u0010@\u0000\u0000\u0000\u0000\u0000\u0000\u0010@\u0000\u0000\u0000\u0000\u0000\u0000\u0010@\u0000\u0000\u0000\u0000\u0000\u0000\u0010@\u0000\u0000\u0000\u0000\u0000\u0000\u0010@\u0000\u0000\u0000\u0000\u0000\u0000\u0010@\u0000\u0000\u0000\u0000\u0000\u0000\u0010@\u0000\u0000\u0000\u0000\u0000\u0000\u0010@\u0000\u0000\u0000\u0000\u0000\u0000\u0010@\u0000\u0000\u0000\u0000\u0000\u0000\u0010@\u0000\u0000\u0000\u0000\u0000\u0000\u0010@\u0000\u0000\u0000\u0000\u0000\u0000\u0010@\u0000\u0000\u0000\u0000\u0000\u0000\u0010@\u0000\u0000\u0000\u0000\u0000\u0000\u0010@\u0000\u0000\u0000\u0000\u0000\u0000\u0010@\u0000\u0000\u0000\u0000\u0000\u0000\u0010@\u0000\u0000\u0000\u0000\u0000\u0000\u0010@\u0000\u0000\u0000\u0000\u0000\u0000\u0010@\u0000\u0000\u0000\u0000\u0000\u0000\u0010@\u0000\u0000\u0000\u0000\u0000\u0000\u0010@\u0000\u0000\u0000\u0000\u0000\u0000\u0010@\u0000\u0000\u0000\u0000\u0000\u0000\u0010@\u0000\u0000\u0000\u0000\u0000\u0000\u0010@\u0000\u0000\u0000\u0000\u0000\u0000\u0010@\u0000\u0000\u0000\u0000\u0000\u0000\u0010@\u0000\u0000\u0000\u0000\u0000\u0000\u0010@\u0000\u0000\u0000\u0000\u0000\u0000\u0010@\u0000\u0000\u0000\u0000\u0000\u0000\u0010@\u0000\u0000\u0000\u0000\u0000\u0000\u0010@\u0000\u0000\u0000\u0000\u0000\u0000\u0010@\u0000\u0000\u0000\u0000\u0000\u0000\u0010@\u0000\u0000\u0000\u0000\u0000\u0000\u0010@\u0000\u0000\u0000\u0000\u0000\u0000\u0010@\u0000\u0000\u0000\u0000\u0000\u0000\u0010@\u0000\u0000\u0000\u0000\u0000\u0000\u0010@\u0000\u0000\u0000\u0000\u0000\u0000\u0010@\u0000\u0000\u0000\u0000\u0000\u0000\u0010@\u0000\u0000\u0000\u0000\u0000\u0000\u0010@\u0000\u0000\u0000\u0000\u0000\u0000\u0010@\u0000\u0000\u0000\u0000\u0000\u0000\u0010@\u0000\u0000\u0000\u0000\u0000\u0000\u0010@\u0000\u0000\u0000\u0000\u0000\u0000\u0010@\u0000\u0000\u0000\u0000\u0000\u0000\u0010@\u0000\u0000\u0000\u0000\u0000\u0000\u0010@\u0000\u0000\u0000\u0000\u0000\u0000\u0010@\u0000\u0000\u0000\u0000\u0000\u0000\u0010@\u0000\u0000\u0000\u0000\u0000\u0000\u0010@\u0000\u0000\u0000\u0000\u0000\u0000\u0010@\u0000\u0000\u0000\u0000\u0000\u0000\u0010@\u0000\u0000\u0000\u0000\u0000\u0000\u0010@\u0000\u0000\u0000\u0000\u0000\u0000\u0010@\u0000\u0000\u0000\u0000\u0000\u0000\u0010@\u0000\u0000\u0000\u0000\u0000\u0000\u0010@\u0000\u0000\u0000\u0000\u0000\u0000\u0010@\u0000\u0000\u0000\u0000\u0000\u0000\u0010@\u0000\u0000\u0000\u0000\u0000\u0000\u0010@\u0000\u0000\u0000\u0000\u0000\u0000\u0010@\u0000\u0000\u0000\u0000\u0000\u0000\u0010@\u0000\u0000\u0000\u0000\u0000\u0000\u0010@\u0000\u0000\u0000\u0000\u0000\u0000\u0010@\u0000\u0000\u0000\u0000\u0000\u0000\u0010@\u0000\u0000\u0000\u0000\u0000\u0000\u0010@\u0000\u0000\u0000\u0000\u0000\u0000\u0010@\u0000\u0000\u0000\u0000\u0000\u0000\u0010@\u0000\u0000\u0000\u0000\u0000\u0000\u0010@\u0000\u0000\u0000\u0000\u0000\u0000\u0010@\u0000\u0000\u0000\u0000\u0000\u0000\u0010@\u0000\u0000\u0000\u0000\u0000\u0000\u0010@\u0000\u0000\u0000\u0000\u0000\u0000\u0010@\u0000\u0000\u0000\u0000\u0000\u0000\u0010@\u0000\u0000\u0000\u0000\u0000\u0000\u0010@\u0000\u0000\u0000\u0000\u0000\u0000\u0010@\u0000\u0000\u0000\u0000\u0000\u0000\u0010@\u0000\u0000\u0000\u0000\u0000\u0000\u0010@\u0000\u0000\u0000\u0000\u0000\u0000\u0010@\u0000\u0000\u0000\u0000\u0000\u0000\u0010@\u0000\u0000\u0000\u0000\u0000\u0000\u0010@\u0000\u0000\u0000\u0000\u0000\u0000\u0010@\u0000\u0000\u0000\u0000\u0000\u0000\u0010@\u0000\u0000\u0000\u0000\u0000\u0000\u0010@\u0000\u0000\u0000\u0000\u0000\u0000\u0010@\u0000\u0000\u0000\u0000\u0000\u0000\u0010@\u0000\u0000\u0000\u0000\u0000\u0000\u0010@\u0000\u0000\u0000\u0000\u0000\u0000\u0010@\u0000\u0000\u0000\u0000\u0000\u0000\u0010@\u0000\u0000\u0000\u0000\u0000\u0000\u0010@\u0000\u0000\u0000\u0000\u0000\u0000\u0010@\u0000\u0000\u0000\u0000\u0000\u0000\u0010@\u0000\u0000\u0000\u0000\u0000\u0000\u0010@\u0000\u0000\u0000\u0000\u0000\u0000\u0010@\u0000\u0000\u0000\u0000\u0000\u0000\u0010@\u0000\u0000\u0000\u0000\u0000\u0000\u0010@\u0000\u0000\u0000\u0000\u0000\u0000\u0010@\u0000\u0000\u0000\u0000\u0000\u0000\u0010@\u0000\u0000\u0000\u0000\u0000\u0000\u0010@\u0000\u0000\u0000\u0000\u0000\u0000\u0010@\u0000\u0000\u0000\u0000\u0000\u0000\u0010@\u0000\u0000\u0000\u0000\u0000\u0000\u0010@\u0000\u0000\u0000\u0000\u0000\u0000\u0010@\u0000\u0000\u0000\u0000\u0000\u0000\u0010@\u0000\u0000\u0000\u0000\u0000\u0000\u0010@\u0000\u0000\u0000\u0000\u0000\u0000\u0010@\u0000\u0000\u0000\u0000\u0000\u0000\u0010@\u0000\u0000\u0000\u0000\u0000\u0000\u0010@\u0000\u0000\u0000\u0000\u0000\u0000\u0010@\u0000\u0000\u0000\u0000\u0000\u0000\u0014@\u0000\u0000\u0000\u0000\u0000\u0000\u0014@\u0000\u0000\u0000\u0000\u0000\u0000\u0014@\u0000\u0000\u0000\u0000\u0000\u0000\u0014@\u0000\u0000\u0000\u0000\u0000\u0000\u0014@\u0000\u0000\u0000\u0000\u0000\u0000\u0014@\u0000\u0000\u0000\u0000\u0000\u0000\u0014@\u0000\u0000\u0000\u0000\u0000\u0000\u0014@\u0000\u0000\u0000\u0000\u0000\u0000\u0014@\u0000\u0000\u0000\u0000\u0000\u0000\u0014@\u0000\u0000\u0000\u0000\u0000\u0000\u0014@\u0000\u0000\u0000\u0000\u0000\u0000\u0014@\u0000\u0000\u0000\u0000\u0000\u0000\u0014@\u0000\u0000\u0000\u0000\u0000\u0000\u0014@\u0000\u0000\u0000\u0000\u0000\u0000\u0014@\u0000\u0000\u0000\u0000\u0000\u0000\u0014@\u0000\u0000\u0000\u0000\u0000\u0000\u0014@\u0000\u0000\u0000\u0000\u0000\u0000\u0014@\u0000\u0000\u0000\u0000\u0000\u0000\u0014@\u0000\u0000\u0000\u0000\u0000\u0000\u0014@\u0000\u0000\u0000\u0000\u0000\u0000\u0014@\u0000\u0000\u0000\u0000\u0000\u0000\u0014@\u0000\u0000\u0000\u0000\u0000\u0000\u0014@\u0000\u0000\u0000\u0000\u0000\u0000\u0014@\u0000\u0000\u0000\u0000\u0000\u0000\u0014@\u0000\u0000\u0000\u0000\u0000\u0000\u0014@\u0000\u0000\u0000\u0000\u0000\u0000\u0014@\u0000\u0000\u0000\u0000\u0000\u0000\u0014@\u0000\u0000\u0000\u0000\u0000\u0000\u0014@\u0000\u0000\u0000\u0000\u0000\u0000\u0014@\u0000\u0000\u0000\u0000\u0000\u0000\u0014@\u0000\u0000\u0000\u0000\u0000\u0000\u0014@\u0000\u0000\u0000\u0000\u0000\u0000\u0014@\u0000\u0000\u0000\u0000\u0000\u0000\u0014@\u0000\u0000\u0000\u0000\u0000\u0000\u0014@\u0000\u0000\u0000\u0000\u0000\u0000\u0014@\u0000\u0000\u0000\u0000\u0000\u0000\u0014@\u0000\u0000\u0000\u0000\u0000\u0000\u0014@\u0000\u0000\u0000\u0000\u0000\u0000\u0014@\u0000\u0000\u0000\u0000\u0000\u0000\u0014@\u0000\u0000\u0000\u0000\u0000\u0000\u0014@\u0000\u0000\u0000\u0000\u0000\u0000\u0014@\u0000\u0000\u0000\u0000\u0000\u0000\u0014@\u0000\u0000\u0000\u0000\u0000\u0000\u0014@\u0000\u0000\u0000\u0000\u0000\u0000\u0014@\u0000\u0000\u0000\u0000\u0000\u0000\u0014@\u0000\u0000\u0000\u0000\u0000\u0000\u0014@\u0000\u0000\u0000\u0000\u0000\u0000\u0014@\u0000\u0000\u0000\u0000\u0000\u0000\u0014@\u0000\u0000\u0000\u0000\u0000\u0000\u0014@\u0000\u0000\u0000\u0000\u0000\u0000\u0014@\u0000\u0000\u0000\u0000\u0000\u0000\u0014@\u0000\u0000\u0000\u0000\u0000\u0000\u0014@\u0000\u0000\u0000\u0000\u0000\u0000\u0014@\u0000\u0000\u0000\u0000\u0000\u0000\u0014@\u0000\u0000\u0000\u0000\u0000\u0000\u0014@\u0000\u0000\u0000\u0000\u0000\u0000\u0014@\u0000\u0000\u0000\u0000\u0000\u0000\u0014@\u0000\u0000\u0000\u0000\u0000\u0000\u0014@\u0000\u0000\u0000\u0000\u0000\u0000\u0014@\u0000\u0000\u0000\u0000\u0000\u0000\u0014@\u0000\u0000\u0000\u0000\u0000\u0000\u0014@\u0000\u0000\u0000\u0000\u0000\u0000\u0014@\u0000\u0000\u0000\u0000\u0000\u0000\u0014@\u0000\u0000\u0000\u0000\u0000\u0000\u0014@\u0000\u0000\u0000\u0000\u0000\u0000\u0014@\u0000\u0000\u0000\u0000\u0000\u0000\u0014@\u0000\u0000\u0000\u0000\u0000\u0000\u0014@\u0000\u0000\u0000\u0000\u0000\u0000\u0014@\u0000\u0000\u0000\u0000\u0000\u0000\u0014@\u0000\u0000\u0000\u0000\u0000\u0000\u0014@\u0000\u0000\u0000\u0000\u0000\u0000\u0014@\u0000\u0000\u0000\u0000\u0000\u0000\u0014@\u0000\u0000\u0000\u0000\u0000\u0000\u0014@\u0000\u0000\u0000\u0000\u0000\u0000\u0014@\u0000\u0000\u0000\u0000\u0000\u0000\u0014@\u0000\u0000\u0000\u0000\u0000\u0000\u0014@\u0000\u0000\u0000\u0000\u0000\u0000\u0014@\u0000\u0000\u0000\u0000\u0000\u0000\u0014@\u0000\u0000\u0000\u0000\u0000\u0000\u0014@\u0000\u0000\u0000\u0000\u0000\u0000\u0014@\u0000\u0000\u0000\u0000\u0000\u0000\u0014@\u0000\u0000\u0000\u0000\u0000\u0000\u0014@\u0000\u0000\u0000\u0000\u0000\u0000\u0014@\u0000\u0000\u0000\u0000\u0000\u0000\u0014@\u0000\u0000\u0000\u0000\u0000\u0000\u0014@\u0000\u0000\u0000\u0000\u0000\u0000\u0014@\u0000\u0000\u0000\u0000\u0000\u0000\u0014@\u0000\u0000\u0000\u0000\u0000\u0000\u0014@\u0000\u0000\u0000\u0000\u0000\u0000\u0014@\u0000\u0000\u0000\u0000\u0000\u0000\u0014@\u0000\u0000\u0000\u0000\u0000\u0000\u0014@\u0000\u0000\u0000\u0000\u0000\u0000\u0014@\u0000\u0000\u0000\u0000\u0000\u0000\u0014@\u0000\u0000\u0000\u0000\u0000\u0000\u0014@\u0000\u0000\u0000\u0000\u0000\u0000\u0014@\u0000\u0000\u0000\u0000\u0000\u0000\u0014@\u0000\u0000\u0000\u0000\u0000\u0000\u0014@\u0000\u0000\u0000\u0000\u0000\u0000\u0014@\u0000\u0000\u0000\u0000\u0000\u0000\u0014@\u0000\u0000\u0000\u0000\u0000\u0000\u0014@\u0000\u0000\u0000\u0000\u0000\u0000\u0014@\u0000\u0000\u0000\u0000\u0000\u0000\u0014@\u0000\u0000\u0000\u0000\u0000\u0000\u0014@\u0000\u0000\u0000\u0000\u0000\u0000\u0014@\u0000\u0000\u0000\u0000\u0000\u0000\u0014@\u0000\u0000\u0000\u0000\u0000\u0000\u0014@\u0000\u0000\u0000\u0000\u0000\u0000\u0014@\u0000\u0000\u0000\u0000\u0000\u0000\u0014@\u0000\u0000\u0000\u0000\u0000\u0000\u0014@\u0000\u0000\u0000\u0000\u0000\u0000\u0014@\u0000\u0000\u0000\u0000\u0000\u0000\u0014@\u0000\u0000\u0000\u0000\u0000\u0000\u0014@\u0000\u0000\u0000\u0000\u0000\u0000\u0014@\u0000\u0000\u0000\u0000\u0000\u0000\u0014@\u0000\u0000\u0000\u0000\u0000\u0000\u0014@\u0000\u0000\u0000\u0000\u0000\u0000\u0014@\u0000\u0000\u0000\u0000\u0000\u0000\u0014@\u0000\u0000\u0000\u0000\u0000\u0000\u0014@\u0000\u0000\u0000\u0000\u0000\u0000\u0014@\u0000\u0000\u0000\u0000\u0000\u0000\u0014@\u0000\u0000\u0000\u0000\u0000\u0000\u0014@\u0000\u0000\u0000\u0000\u0000\u0000\u0014@\u0000\u0000\u0000\u0000\u0000\u0000\u0014@\u0000\u0000\u0000\u0000\u0000\u0000\u0014@\u0000\u0000\u0000\u0000\u0000\u0000\u0014@\u0000\u0000\u0000\u0000\u0000\u0000\u0014@\u0000\u0000\u0000\u0000\u0000\u0000\u0014@\u0000\u0000\u0000\u0000\u0000\u0000\u0018@\u0000\u0000\u0000\u0000\u0000\u0000\u0018@\u0000\u0000\u0000\u0000\u0000\u0000\u0018@\u0000\u0000\u0000\u0000\u0000\u0000\u0018@\u0000\u0000\u0000\u0000\u0000\u0000\u0018@\u0000\u0000\u0000\u0000\u0000\u0000\u0018@\u0000\u0000\u0000\u0000\u0000\u0000\u0018@\u0000\u0000\u0000\u0000\u0000\u0000\u0018@\u0000\u0000\u0000\u0000\u0000\u0000\u0018@\u0000\u0000\u0000\u0000\u0000\u0000\u0018@\u0000\u0000\u0000\u0000\u0000\u0000\u0018@\u0000\u0000\u0000\u0000\u0000\u0000\u0018@\u0000\u0000\u0000\u0000\u0000\u0000\u0018@\u0000\u0000\u0000\u0000\u0000\u0000\u0018@\u0000\u0000\u0000\u0000\u0000\u0000\u0018@\u0000\u0000\u0000\u0000\u0000\u0000\u0018@\u0000\u0000\u0000\u0000\u0000\u0000\u0018@\u0000\u0000\u0000\u0000\u0000\u0000\u0018@\u0000\u0000\u0000\u0000\u0000\u0000\u0018@\u0000\u0000\u0000\u0000\u0000\u0000\u0018@\u0000\u0000\u0000\u0000\u0000\u0000\u0018@\u0000\u0000\u0000\u0000\u0000\u0000\u0018@\u0000\u0000\u0000\u0000\u0000\u0000\u0018@\u0000\u0000\u0000\u0000\u0000\u0000\u0018@\u0000\u0000\u0000\u0000\u0000\u0000\u0018@\u0000\u0000\u0000\u0000\u0000\u0000\u0018@\u0000\u0000\u0000\u0000\u0000\u0000\u0018@\u0000\u0000\u0000\u0000\u0000\u0000\u0018@\u0000\u0000\u0000\u0000\u0000\u0000\u0018@\u0000\u0000\u0000\u0000\u0000\u0000\u0018@\u0000\u0000\u0000\u0000\u0000\u0000\u0018@\u0000\u0000\u0000\u0000\u0000\u0000\u0018@\u0000\u0000\u0000\u0000\u0000\u0000\u0018@\u0000\u0000\u0000\u0000\u0000\u0000\u0018@\u0000\u0000\u0000\u0000\u0000\u0000\u0018@\u0000\u0000\u0000\u0000\u0000\u0000\u0018@\u0000\u0000\u0000\u0000\u0000\u0000\u0018@\u0000\u0000\u0000\u0000\u0000\u0000\u0018@\u0000\u0000\u0000\u0000\u0000\u0000\u0018@\u0000\u0000\u0000\u0000\u0000\u0000\u0018@\u0000\u0000\u0000\u0000\u0000\u0000\u0018@\u0000\u0000\u0000\u0000\u0000\u0000\u0018@\u0000\u0000\u0000\u0000\u0000\u0000\u0018@\u0000\u0000\u0000\u0000\u0000\u0000\u0018@\u0000\u0000\u0000\u0000\u0000\u0000\u0018@\u0000\u0000\u0000\u0000\u0000\u0000\u0018@\u0000\u0000\u0000\u0000\u0000\u0000\u0018@\u0000\u0000\u0000\u0000\u0000\u0000\u0018@\u0000\u0000\u0000\u0000\u0000\u0000\u0018@\u0000\u0000\u0000\u0000\u0000\u0000\u0018@\u0000\u0000\u0000\u0000\u0000\u0000\u0018@\u0000\u0000\u0000\u0000\u0000\u0000\u0018@\u0000\u0000\u0000\u0000\u0000\u0000\u0018@\u0000\u0000\u0000\u0000\u0000\u0000\u0018@\u0000\u0000\u0000\u0000\u0000\u0000\u0018@\u0000\u0000\u0000\u0000\u0000\u0000\u0018@\u0000\u0000\u0000\u0000\u0000\u0000\u0018@\u0000\u0000\u0000\u0000\u0000\u0000\u0018@\u0000\u0000\u0000\u0000\u0000\u0000\u0018@\u0000\u0000\u0000\u0000\u0000\u0000\u0018@\u0000\u0000\u0000\u0000\u0000\u0000\u0018@\u0000\u0000\u0000\u0000\u0000\u0000\u0018@\u0000\u0000\u0000\u0000\u0000\u0000\u0018@\u0000\u0000\u0000\u0000\u0000\u0000\u0018@\u0000\u0000\u0000\u0000\u0000\u0000\u0018@\u0000\u0000\u0000\u0000\u0000\u0000\u0018@\u0000\u0000\u0000\u0000\u0000\u0000\u0018@\u0000\u0000\u0000\u0000\u0000\u0000\u0018@\u0000\u0000\u0000\u0000\u0000\u0000\u0018@\u0000\u0000\u0000\u0000\u0000\u0000\u0018@\u0000\u0000\u0000\u0000\u0000\u0000\u0018@\u0000\u0000\u0000\u0000\u0000\u0000\u0018@\u0000\u0000\u0000\u0000\u0000\u0000\u0018@\u0000\u0000\u0000\u0000\u0000\u0000\u0018@\u0000\u0000\u0000\u0000\u0000\u0000\u0018@\u0000\u0000\u0000\u0000\u0000\u0000\u0018@\u0000\u0000\u0000\u0000\u0000\u0000\u0018@\u0000\u0000\u0000\u0000\u0000\u0000\u0018@\u0000\u0000\u0000\u0000\u0000\u0000\u0018@\u0000\u0000\u0000\u0000\u0000\u0000\u0018@\u0000\u0000\u0000\u0000\u0000\u0000\u0018@\u0000\u0000\u0000\u0000\u0000\u0000\u0018@\u0000\u0000\u0000\u0000\u0000\u0000\u0018@\u0000\u0000\u0000\u0000\u0000\u0000\u0018@\u0000\u0000\u0000\u0000\u0000\u0000\u0018@\u0000\u0000\u0000\u0000\u0000\u0000\u0018@\u0000\u0000\u0000\u0000\u0000\u0000\u0018@\u0000\u0000\u0000\u0000\u0000\u0000\u0018@\u0000\u0000\u0000\u0000\u0000\u0000\u0018@\u0000\u0000\u0000\u0000\u0000\u0000\u0018@\u0000\u0000\u0000\u0000\u0000\u0000\u0018@\u0000\u0000\u0000\u0000\u0000\u0000\u0018@\u0000\u0000\u0000\u0000\u0000\u0000\u0018@\u0000\u0000\u0000\u0000\u0000\u0000\u0018@\u0000\u0000\u0000\u0000\u0000\u0000\u0018@\u0000\u0000\u0000\u0000\u0000\u0000\u0018@\u0000\u0000\u0000\u0000\u0000\u0000\u0018@\u0000\u0000\u0000\u0000\u0000\u0000\u0018@\u0000\u0000\u0000\u0000\u0000\u0000\u0018@\u0000\u0000\u0000\u0000\u0000\u0000\u0018@\u0000\u0000\u0000\u0000\u0000\u0000\u0018@\u0000\u0000\u0000\u0000\u0000\u0000\u0018@\u0000\u0000\u0000\u0000\u0000\u0000\u0018@\u0000\u0000\u0000\u0000\u0000\u0000\u0018@\u0000\u0000\u0000\u0000\u0000\u0000\u0018@\u0000\u0000\u0000\u0000\u0000\u0000\u0018@\u0000\u0000\u0000\u0000\u0000\u0000\u0018@\u0000\u0000\u0000\u0000\u0000\u0000\u0018@\u0000\u0000\u0000\u0000\u0000\u0000\u0018@\u0000\u0000\u0000\u0000\u0000\u0000\u0018@\u0000\u0000\u0000\u0000\u0000\u0000\u0018@\u0000\u0000\u0000\u0000\u0000\u0000\u0018@\u0000\u0000\u0000\u0000\u0000\u0000\u0018@\u0000\u0000\u0000\u0000\u0000\u0000\u0018@\u0000\u0000\u0000\u0000\u0000\u0000\u0018@\u0000\u0000\u0000\u0000\u0000\u0000\u0018@\u0000\u0000\u0000\u0000\u0000\u0000\u0018@\u0000\u0000\u0000\u0000\u0000\u0000\u0018@\u0000\u0000\u0000\u0000\u0000\u0000\u0018@\u0000\u0000\u0000\u0000\u0000\u0000\u0018@\u0000\u0000\u0000\u0000\u0000\u0000\u0018@\u0000\u0000\u0000\u0000\u0000\u0000\u0018@\u0000\u0000\u0000\u0000\u0000\u0000\u0018@\u0000\u0000\u0000\u0000\u0000\u0000\u0018@\u0000\u0000\u0000\u0000\u0000\u0000\u0018@\u0000\u0000\u0000\u0000\u0000\u0000\u0018@\u0000\u0000\u0000\u0000\u0000\u0000\u0018@\u0000\u0000\u0000\u0000\u0000\u0000\u0018@\u0000\u0000\u0000\u0000\u0000\u0000\u001c",
      "@\u0000\u0000\u0000\u0000\u0000\u0000\u001c",
      "@\u0000\u0000\u0000\u0000\u0000\u0000\u001c",
      "@\u0000\u0000\u0000\u0000\u0000\u0000\u001c",
      "@\u0000\u0000\u0000\u0000\u0000\u0000\u001c",
      "@\u0000\u0000\u0000\u0000\u0000\u0000\u001c",
      "@\u0000\u0000\u0000\u0000\u0000\u0000\u001c",
      "@\u0000\u0000\u0000\u0000\u0000\u0000\u001c",
      "@\u0000\u0000\u0000\u0000\u0000\u0000\u001c",
      "@\u0000\u0000\u0000\u0000\u0000\u0000\u001c",
      "@\u0000\u0000\u0000\u0000\u0000\u0000\u001c",
      "@\u0000\u0000\u0000\u0000\u0000\u0000\u001c",
      "@\u0000\u0000\u0000\u0000\u0000\u0000\u001c",
      "@\u0000\u0000\u0000\u0000\u0000\u0000\u001c",
      "@\u0000\u0000\u0000\u0000\u0000\u0000\u001c",
      "@\u0000\u0000\u0000\u0000\u0000\u0000\u001c",
      "@\u0000\u0000\u0000\u0000\u0000\u0000\u001c",
      "@\u0000\u0000\u0000\u0000\u0000\u0000\u001c",
      "@\u0000\u0000\u0000\u0000\u0000\u0000\u001c",
      "@\u0000\u0000\u0000\u0000\u0000\u0000\u001c",
      "@\u0000\u0000\u0000\u0000\u0000\u0000\u001c",
      "@\u0000\u0000\u0000\u0000\u0000\u0000\u001c",
      "@\u0000\u0000\u0000\u0000\u0000\u0000\u001c",
      "@\u0000\u0000\u0000\u0000\u0000\u0000\u001c",
      "@\u0000\u0000\u0000\u0000\u0000\u0000\u001c",
      "@\u0000\u0000\u0000\u0000\u0000\u0000\u001c",
      "@\u0000\u0000\u0000\u0000\u0000\u0000\u001c",
      "@\u0000\u0000\u0000\u0000\u0000\u0000\u001c",
      "@\u0000\u0000\u0000\u0000\u0000\u0000\u001c",
      "@\u0000\u0000\u0000\u0000\u0000\u0000\u001c",
      "@\u0000\u0000\u0000\u0000\u0000\u0000\u001c",
      "@\u0000\u0000\u0000\u0000\u0000\u0000\u001c",
      "@\u0000\u0000\u0000\u0000\u0000\u0000\u001c",
      "@\u0000\u0000\u0000\u0000\u0000\u0000\u001c",
      "@\u0000\u0000\u0000\u0000\u0000\u0000\u001c",
      "@\u0000\u0000\u0000\u0000\u0000\u0000\u001c",
      "@\u0000\u0000\u0000\u0000\u0000\u0000\u001c",
      "@\u0000\u0000\u0000\u0000\u0000\u0000\u001c",
      "@\u0000\u0000\u0000\u0000\u0000\u0000\u001c",
      "@\u0000\u0000\u0000\u0000\u0000\u0000\u001c",
      "@\u0000\u0000\u0000\u0000\u0000\u0000\u001c",
      "@\u0000\u0000\u0000\u0000\u0000\u0000\u001c",
      "@\u0000\u0000\u0000\u0000\u0000\u0000\u001c",
      "@\u0000\u0000\u0000\u0000\u0000\u0000\u001c",
      "@\u0000\u0000\u0000\u0000\u0000\u0000\u001c",
      "@\u0000\u0000\u0000\u0000\u0000\u0000\u001c",
      "@\u0000\u0000\u0000\u0000\u0000\u0000\u001c",
      "@\u0000\u0000\u0000\u0000\u0000\u0000\u001c",
      "@\u0000\u0000\u0000\u0000\u0000\u0000\u001c",
      "@\u0000\u0000\u0000\u0000\u0000\u0000\u001c",
      "@\u0000\u0000\u0000\u0000\u0000\u0000\u001c",
      "@\u0000\u0000\u0000\u0000\u0000\u0000\u001c",
      "@\u0000\u0000\u0000\u0000\u0000\u0000\u001c",
      "@\u0000\u0000\u0000\u0000\u0000\u0000\u001c",
      "@\u0000\u0000\u0000\u0000\u0000\u0000\u001c",
      "@\u0000\u0000\u0000\u0000\u0000\u0000\u001c",
      "@\u0000\u0000\u0000\u0000\u0000\u0000\u001c",
      "@\u0000\u0000\u0000\u0000\u0000\u0000\u001c",
      "@\u0000\u0000\u0000\u0000\u0000\u0000\u001c",
      "@\u0000\u0000\u0000\u0000\u0000\u0000\u001c",
      "@\u0000\u0000\u0000\u0000\u0000\u0000\u001c",
      "@\u0000\u0000\u0000\u0000\u0000\u0000\u001c",
      "@\u0000\u0000\u0000\u0000\u0000\u0000\u001c",
      "@\u0000\u0000\u0000\u0000\u0000\u0000\u001c",
      "@\u0000\u0000\u0000\u0000\u0000\u0000\u001c",
      "@\u0000\u0000\u0000\u0000\u0000\u0000\u001c",
      "@\u0000\u0000\u0000\u0000\u0000\u0000\u001c",
      "@\u0000\u0000\u0000\u0000\u0000\u0000\u001c",
      "@\u0000\u0000\u0000\u0000\u0000\u0000\u001c",
      "@\u0000\u0000\u0000\u0000\u0000\u0000\u001c",
      "@\u0000\u0000\u0000\u0000\u0000\u0000\u001c",
      "@\u0000\u0000\u0000\u0000\u0000\u0000\u001c",
      "@\u0000\u0000\u0000\u0000\u0000\u0000\u001c",
      "@\u0000\u0000\u0000\u0000\u0000\u0000\u001c",
      "@\u0000\u0000\u0000\u0000\u0000\u0000\u001c",
      "@\u0000\u0000\u0000\u0000\u0000\u0000\u001c",
      "@\u0000\u0000\u0000\u0000\u0000\u0000\u001c",
      "@\u0000\u0000\u0000\u0000\u0000\u0000\u001c",
      "@\u0000\u0000\u0000\u0000\u0000\u0000\u001c",
      "@\u0000\u0000\u0000\u0000\u0000\u0000\u001c",
      "@\u0000\u0000\u0000\u0000\u0000\u0000\u001c",
      "@\u0000\u0000\u0000\u0000\u0000\u0000\u001c",
      "@\u0000\u0000\u0000\u0000\u0000\u0000\u001c",
      "@\u0000\u0000\u0000\u0000\u0000\u0000\u001c",
      "@\u0000\u0000\u0000\u0000\u0000\u0000\u001c",
      "@\u0000\u0000\u0000\u0000\u0000\u0000\u001c",
      "@\u0000\u0000\u0000\u0000\u0000\u0000\u001c",
      "@\u0000\u0000\u0000\u0000\u0000\u0000\u001c",
      "@\u0000\u0000\u0000\u0000\u0000\u0000\u001c",
      "@\u0000\u0000\u0000\u0000\u0000\u0000\u001c",
      "@\u0000\u0000\u0000\u0000\u0000\u0000\u001c",
      "@\u0000\u0000\u0000\u0000\u0000\u0000\u001c",
      "@\u0000\u0000\u0000\u0000\u0000\u0000\u001c",
      "@\u0000\u0000\u0000\u0000\u0000\u0000\u001c",
      "@\u0000\u0000\u0000\u0000\u0000\u0000\u001c",
      "@\u0000\u0000\u0000\u0000\u0000\u0000\u001c",
      "@\u0000\u0000\u0000\u0000\u0000\u0000\u001c",
      "@\u0000\u0000\u0000\u0000\u0000\u0000\u001c",
      "@\u0000\u0000\u0000\u0000\u0000\u0000\u001c",
      "@\u0000\u0000\u0000\u0000\u0000\u0000\u001c",
      "@\u0000\u0000\u0000\u0000\u0000\u0000\u001c",
      "@\u0000\u0000\u0000\u0000\u0000\u0000\u001c",
      "@\u0000\u0000\u0000\u0000\u0000\u0000\u001c",
      "@\u0000\u0000\u0000\u0000\u0000\u0000\u001c",
      "@\u0000\u0000\u0000\u0000\u0000\u0000\u001c",
      "@\u0000\u0000\u0000\u0000\u0000\u0000\u001c",
      "@\u0000\u0000\u0000\u0000\u0000\u0000\u001c",
      "@\u0000\u0000\u0000\u0000\u0000\u0000\u001c",
      "@\u0000\u0000\u0000\u0000\u0000\u0000\u001c",
      "@\u0000\u0000\u0000\u0000\u0000\u0000\u001c",
      "@\u0000\u0000\u0000\u0000\u0000\u0000\u001c",
      "@\u0000\u0000\u0000\u0000\u0000\u0000\u001c",
      "@\u0000\u0000\u0000\u0000\u0000\u0000\u001c",
      "@\u0000\u0000\u0000\u0000\u0000\u0000\u001c",
      "@\u0000\u0000\u0000\u0000\u0000\u0000\u001c",
      "@\u0000\u0000\u0000\u0000\u0000\u0000\u001c",
      "@\u0000\u0000\u0000\u0000\u0000\u0000\u001c",
      "@\u0000\u0000\u0000\u0000\u0000\u0000\u001c",
      "@\u0000\u0000\u0000\u0000\u0000\u0000\u001c",
      "@\u0000\u0000\u0000\u0000\u0000\u0000\u001c",
      "@\u0000\u0000\u0000\u0000\u0000\u0000\u001c",
      "@\u0000\u0000\u0000\u0000\u0000\u0000\u001c",
      "@\u0000\u0000\u0000\u0000\u0000\u0000\u001c",
      "@\u0000\u0000\u0000\u0000\u0000\u0000\u001c",
      "@\u0000\u0000\u0000\u0000\u0000\u0000\u001c",
      "@\u0000\u0000\u0000\u0000\u0000\u0000\u001c",
      "@\u0000\u0000\u0000\u0000\u0000\u0000\u001c",
      "@\u0000\u0000\u0000\u0000\u0000\u0000\u001c",
      "@\u0000\u0000\u0000\u0000\u0000\u0000 @\u0000\u0000\u0000\u0000\u0000\u0000 @\u0000\u0000\u0000\u0000\u0000\u0000 @\u0000\u0000\u0000\u0000\u0000\u0000 @\u0000\u0000\u0000\u0000\u0000\u0000 @\u0000\u0000\u0000\u0000\u0000\u0000 @\u0000\u0000\u0000\u0000\u0000\u0000 @\u0000\u0000\u0000\u0000\u0000\u0000 @\u0000\u0000\u0000\u0000\u0000\u0000 @\u0000\u0000\u0000\u0000\u0000\u0000 @\u0000\u0000\u0000\u0000\u0000\u0000 @\u0000\u0000\u0000\u0000\u0000\u0000 @\u0000\u0000\u0000\u0000\u0000\u0000 @\u0000\u0000\u0000\u0000\u0000\u0000 @\u0000\u0000\u0000\u0000\u0000\u0000 @\u0000\u0000\u0000\u0000\u0000\u0000 @\u0000\u0000\u0000\u0000\u0000\u0000 @\u0000\u0000\u0000\u0000\u0000\u0000 @\u0000\u0000\u0000\u0000\u0000\u0000 @\u0000\u0000\u0000\u0000\u0000\u0000 @\u0000\u0000\u0000\u0000\u0000\u0000 @\u0000\u0000\u0000\u0000\u0000\u0000 @\u0000\u0000\u0000\u0000\u0000\u0000 @\u0000\u0000\u0000\u0000\u0000\u0000 @\u0000\u0000\u0000\u0000\u0000\u0000 @\u0000\u0000\u0000\u0000\u0000\u0000 @\u0000\u0000\u0000\u0000\u0000\u0000 @\u0000\u0000\u0000\u0000\u0000\u0000 @\u0000\u0000\u0000\u0000\u0000\u0000 @\u0000\u0000\u0000\u0000\u0000\u0000 @\u0000\u0000\u0000\u0000\u0000\u0000 @\u0000\u0000\u0000\u0000\u0000\u0000 @\u0000\u0000\u0000\u0000\u0000\u0000 @\u0000\u0000\u0000\u0000\u0000\u0000 @\u0000\u0000\u0000\u0000\u0000\u0000 @\u0000\u0000\u0000\u0000\u0000\u0000 @\u0000\u0000\u0000\u0000\u0000\u0000 @\u0000\u0000\u0000\u0000\u0000\u0000 @\u0000\u0000\u0000\u0000\u0000\u0000 @\u0000\u0000\u0000\u0000\u0000\u0000 @\u0000\u0000\u0000\u0000\u0000\u0000 @\u0000\u0000\u0000\u0000\u0000\u0000 @\u0000\u0000\u0000\u0000\u0000\u0000 @\u0000\u0000\u0000\u0000\u0000\u0000 @\u0000\u0000\u0000\u0000\u0000\u0000 @\u0000\u0000\u0000\u0000\u0000\u0000 @\u0000\u0000\u0000\u0000\u0000\u0000 @\u0000\u0000\u0000\u0000\u0000\u0000 @\u0000\u0000\u0000\u0000\u0000\u0000 @\u0000\u0000\u0000\u0000\u0000\u0000 @\u0000\u0000\u0000\u0000\u0000\u0000 @\u0000\u0000\u0000\u0000\u0000\u0000 @\u0000\u0000\u0000\u0000\u0000\u0000 @\u0000\u0000\u0000\u0000\u0000\u0000 @\u0000\u0000\u0000\u0000\u0000\u0000 @\u0000\u0000\u0000\u0000\u0000\u0000 @\u0000\u0000\u0000\u0000\u0000\u0000 @\u0000\u0000\u0000\u0000\u0000\u0000 @\u0000\u0000\u0000\u0000\u0000\u0000 @\u0000\u0000\u0000\u0000\u0000\u0000 @\u0000\u0000\u0000\u0000\u0000\u0000 @\u0000\u0000\u0000\u0000\u0000\u0000 @\u0000\u0000\u0000\u0000\u0000\u0000 @\u0000\u0000\u0000\u0000\u0000\u0000 @\u0000\u0000\u0000\u0000\u0000\u0000 @\u0000\u0000\u0000\u0000\u0000\u0000 @\u0000\u0000\u0000\u0000\u0000\u0000 @\u0000\u0000\u0000\u0000\u0000\u0000 @\u0000\u0000\u0000\u0000\u0000\u0000 @\u0000\u0000\u0000\u0000\u0000\u0000 @\u0000\u0000\u0000\u0000\u0000\u0000 @\u0000\u0000\u0000\u0000\u0000\u0000 @\u0000\u0000\u0000\u0000\u0000\u0000 @\u0000\u0000\u0000\u0000\u0000\u0000 @\u0000\u0000\u0000\u0000\u0000\u0000 @\u0000\u0000\u0000\u0000\u0000\u0000 @\u0000\u0000\u0000\u0000\u0000\u0000 @\u0000\u0000\u0000\u0000\u0000\u0000 @\u0000\u0000\u0000\u0000\u0000\u0000 @\u0000\u0000\u0000\u0000\u0000\u0000 @\u0000\u0000\u0000\u0000\u0000\u0000 @\u0000\u0000\u0000\u0000\u0000\u0000 @\u0000\u0000\u0000\u0000\u0000\u0000 @\u0000\u0000\u0000\u0000\u0000\u0000 @\u0000\u0000\u0000\u0000\u0000\u0000 @\u0000\u0000\u0000\u0000\u0000\u0000 @\u0000\u0000\u0000\u0000\u0000\u0000 @\u0000\u0000\u0000\u0000\u0000\u0000 @\u0000\u0000\u0000\u0000\u0000\u0000 @\u0000\u0000\u0000\u0000\u0000\u0000 @\u0000\u0000\u0000\u0000\u0000\u0000 @\u0000\u0000\u0000\u0000\u0000\u0000 @\u0000\u0000\u0000\u0000\u0000\u0000 @\u0000\u0000\u0000\u0000\u0000\u0000 @\u0000\u0000\u0000\u0000\u0000\u0000 @\u0000\u0000\u0000\u0000\u0000\u0000 @\u0000\u0000\u0000\u0000\u0000\u0000 @\u0000\u0000\u0000\u0000\u0000\u0000 @\u0000\u0000\u0000\u0000\u0000\u0000 @\u0000\u0000\u0000\u0000\u0000\u0000 @\u0000\u0000\u0000\u0000\u0000\u0000 @\u0000\u0000\u0000\u0000\u0000\u0000 @\u0000\u0000\u0000\u0000\u0000\u0000 @\u0000\u0000\u0000\u0000\u0000\u0000 @\u0000\u0000\u0000\u0000\u0000\u0000 @\u0000\u0000\u0000\u0000\u0000\u0000 @\u0000\u0000\u0000\u0000\u0000\u0000 @\u0000\u0000\u0000\u0000\u0000\u0000 @\u0000\u0000\u0000\u0000\u0000\u0000 @\u0000\u0000\u0000\u0000\u0000\u0000 @\u0000\u0000\u0000\u0000\u0000\u0000 @\u0000\u0000\u0000\u0000\u0000\u0000 @\u0000\u0000\u0000\u0000\u0000\u0000 @\u0000\u0000\u0000\u0000\u0000\u0000 @\u0000\u0000\u0000\u0000\u0000\u0000 @\u0000\u0000\u0000\u0000\u0000\u0000 @\u0000\u0000\u0000\u0000\u0000\u0000 @\u0000\u0000\u0000\u0000\u0000\u0000 @\u0000\u0000\u0000\u0000\u0000\u0000 @\u0000\u0000\u0000\u0000\u0000\u0000 @\u0000\u0000\u0000\u0000\u0000\u0000 @\u0000\u0000\u0000\u0000\u0000\u0000 @\u0000\u0000\u0000\u0000\u0000\u0000 @\u0000\u0000\u0000\u0000\u0000\u0000 @\u0000\u0000\u0000\u0000\u0000\u0000 @\u0000\u0000\u0000\u0000\u0000\u0000 @\u0000\u0000\u0000\u0000\u0000\u0000 @\u0000\u0000\u0000\u0000\u0000\u0000 @\u0000\u0000\u0000\u0000\u0000\u0000\"@\u0000\u0000\u0000\u0000\u0000\u0000\"@\u0000\u0000\u0000\u0000\u0000\u0000\"@\u0000\u0000\u0000\u0000\u0000\u0000\"@\u0000\u0000\u0000\u0000\u0000\u0000\"@\u0000\u0000\u0000\u0000\u0000\u0000\"@\u0000\u0000\u0000\u0000\u0000\u0000\"@\u0000\u0000\u0000\u0000\u0000\u0000\"@\u0000\u0000\u0000\u0000\u0000\u0000\"@\u0000\u0000\u0000\u0000\u0000\u0000\"@\u0000\u0000\u0000\u0000\u0000\u0000\"@\u0000\u0000\u0000\u0000\u0000\u0000\"@\u0000\u0000\u0000\u0000\u0000\u0000\"@\u0000\u0000\u0000\u0000\u0000\u0000\"@\u0000\u0000\u0000\u0000\u0000\u0000\"@\u0000\u0000\u0000\u0000\u0000\u0000\"@\u0000\u0000\u0000\u0000\u0000\u0000\"@\u0000\u0000\u0000\u0000\u0000\u0000\"@\u0000\u0000\u0000\u0000\u0000\u0000\"@\u0000\u0000\u0000\u0000\u0000\u0000\"@\u0000\u0000\u0000\u0000\u0000\u0000\"@\u0000\u0000\u0000\u0000\u0000\u0000\"@\u0000\u0000\u0000\u0000\u0000\u0000\"@\u0000\u0000\u0000\u0000\u0000\u0000\"@\u0000\u0000\u0000\u0000\u0000\u0000\"@\u0000\u0000\u0000\u0000\u0000\u0000\"@\u0000\u0000\u0000\u0000\u0000\u0000\"@\u0000\u0000\u0000\u0000\u0000\u0000\"@\u0000\u0000\u0000\u0000\u0000\u0000\"@\u0000\u0000\u0000\u0000\u0000\u0000\"@\u0000\u0000\u0000\u0000\u0000\u0000\"@\u0000\u0000\u0000\u0000\u0000\u0000\"@\u0000\u0000\u0000\u0000\u0000\u0000\"@\u0000\u0000\u0000\u0000\u0000\u0000\"@\u0000\u0000\u0000\u0000\u0000\u0000\"@\u0000\u0000\u0000\u0000\u0000\u0000\"@\u0000\u0000\u0000\u0000\u0000\u0000\"@\u0000\u0000\u0000\u0000\u0000\u0000\"@\u0000\u0000\u0000\u0000\u0000\u0000\"@\u0000\u0000\u0000\u0000\u0000\u0000\"@\u0000\u0000\u0000\u0000\u0000\u0000\"@\u0000\u0000\u0000\u0000\u0000\u0000\"@\u0000\u0000\u0000\u0000\u0000\u0000\"@\u0000\u0000\u0000\u0000\u0000\u0000\"@\u0000\u0000\u0000\u0000\u0000\u0000\"@\u0000\u0000\u0000\u0000\u0000\u0000\"@\u0000\u0000\u0000\u0000\u0000\u0000\"@\u0000\u0000\u0000\u0000\u0000\u0000\"@\u0000\u0000\u0000\u0000\u0000\u0000\"@\u0000\u0000\u0000\u0000\u0000\u0000\"@\u0000\u0000\u0000\u0000\u0000\u0000\"@\u0000\u0000\u0000\u0000\u0000\u0000\"@\u0000\u0000\u0000\u0000\u0000\u0000\"@\u0000\u0000\u0000\u0000\u0000\u0000\"@\u0000\u0000\u0000\u0000\u0000\u0000\"@\u0000\u0000\u0000\u0000\u0000\u0000\"@\u0000\u0000\u0000\u0000\u0000\u0000\"@\u0000\u0000\u0000\u0000\u0000\u0000\"@\u0000\u0000\u0000\u0000\u0000\u0000\"@\u0000\u0000\u0000\u0000\u0000\u0000\"@\u0000\u0000\u0000\u0000\u0000\u0000\"@\u0000\u0000\u0000\u0000\u0000\u0000\"@\u0000\u0000\u0000\u0000\u0000\u0000\"@\u0000\u0000\u0000\u0000\u0000\u0000\"@\u0000\u0000\u0000\u0000\u0000\u0000\"@\u0000\u0000\u0000\u0000\u0000\u0000\"@\u0000\u0000\u0000\u0000\u0000\u0000\"@\u0000\u0000\u0000\u0000\u0000\u0000\"@\u0000\u0000\u0000\u0000\u0000\u0000\"@\u0000\u0000\u0000\u0000\u0000\u0000\"@\u0000\u0000\u0000\u0000\u0000\u0000\"@\u0000\u0000\u0000\u0000\u0000\u0000\"@\u0000\u0000\u0000\u0000\u0000\u0000\"@\u0000\u0000\u0000\u0000\u0000\u0000\"@\u0000\u0000\u0000\u0000\u0000\u0000\"@\u0000\u0000\u0000\u0000\u0000\u0000\"@\u0000\u0000\u0000\u0000\u0000\u0000\"@\u0000\u0000\u0000\u0000\u0000\u0000\"@\u0000\u0000\u0000\u0000\u0000\u0000\"@\u0000\u0000\u0000\u0000\u0000\u0000\"@\u0000\u0000\u0000\u0000\u0000\u0000\"@\u0000\u0000\u0000\u0000\u0000\u0000\"@\u0000\u0000\u0000\u0000\u0000\u0000\"@\u0000\u0000\u0000\u0000\u0000\u0000\"@\u0000\u0000\u0000\u0000\u0000\u0000\"@\u0000\u0000\u0000\u0000\u0000\u0000\"@\u0000\u0000\u0000\u0000\u0000\u0000\"@\u0000\u0000\u0000\u0000\u0000\u0000\"@\u0000\u0000\u0000\u0000\u0000\u0000\"@\u0000\u0000\u0000\u0000\u0000\u0000\"@\u0000\u0000\u0000\u0000\u0000\u0000\"@\u0000\u0000\u0000\u0000\u0000\u0000\"@\u0000\u0000\u0000\u0000\u0000\u0000\"@\u0000\u0000\u0000\u0000\u0000\u0000\"@\u0000\u0000\u0000\u0000\u0000\u0000\"@\u0000\u0000\u0000\u0000\u0000\u0000\"@\u0000\u0000\u0000\u0000\u0000\u0000\"@\u0000\u0000\u0000\u0000\u0000\u0000\"@\u0000\u0000\u0000\u0000\u0000\u0000\"@\u0000\u0000\u0000\u0000\u0000\u0000\"@\u0000\u0000\u0000\u0000\u0000\u0000\"@\u0000\u0000\u0000\u0000\u0000\u0000\"@\u0000\u0000\u0000\u0000\u0000\u0000\"@\u0000\u0000\u0000\u0000\u0000\u0000\"@\u0000\u0000\u0000\u0000\u0000\u0000\"@\u0000\u0000\u0000\u0000\u0000\u0000\"@\u0000\u0000\u0000\u0000\u0000\u0000\"@\u0000\u0000\u0000\u0000\u0000\u0000\"@\u0000\u0000\u0000\u0000\u0000\u0000\"@\u0000\u0000\u0000\u0000\u0000\u0000\"@\u0000\u0000\u0000\u0000\u0000\u0000\"@\u0000\u0000\u0000\u0000\u0000\u0000\"@\u0000\u0000\u0000\u0000\u0000\u0000\"@\u0000\u0000\u0000\u0000\u0000\u0000\"@\u0000\u0000\u0000\u0000\u0000\u0000\"@\u0000\u0000\u0000\u0000\u0000\u0000\"@\u0000\u0000\u0000\u0000\u0000\u0000\"@\u0000\u0000\u0000\u0000\u0000\u0000\"@\u0000\u0000\u0000\u0000\u0000\u0000\"@\u0000\u0000\u0000\u0000\u0000\u0000\"@\u0000\u0000\u0000\u0000\u0000\u0000\"@\u0000\u0000\u0000\u0000\u0000\u0000\"@\u0000\u0000\u0000\u0000\u0000\u0000\"@\u0000\u0000\u0000\u0000\u0000\u0000\"@\u0000\u0000\u0000\u0000\u0000\u0000\"@\u0000\u0000\u0000\u0000\u0000\u0000\"@\u0000\u0000\u0000\u0000\u0000\u0000\"@\u0000\u0000\u0000\u0000\u0000\u0000\"@"
     ]
    }
   ],
   "source": [
    "cat streaming_data/stream_test.asdf"
   ]
  },
  {
   "cell_type": "markdown",
   "metadata": {
    "slideshow": {
     "slide_type": "subslide"
    }
   },
   "source": [
    "# Explosive Storage\n",
    "\n",
    "Data can be optionally stored in the header (if it's reasonably small) or exploded into separate files (if large binary)."
   ]
  },
  {
   "cell_type": "code",
   "execution_count": null,
   "metadata": {
    "collapsed": true,
    "slideshow": {
     "slide_type": "skip"
    }
   },
   "outputs": [],
   "source": [
    "mkdir -p exploded_data"
   ]
  },
  {
   "cell_type": "code",
   "execution_count": null,
   "metadata": {
    "collapsed": false,
    "slideshow": {
     "slide_type": "fragment"
    }
   },
   "outputs": [],
   "source": [
    "from asdf import AsdfFile\n",
    "import numpy as np\n",
    "\n",
    "my_array = np.random.rand(3, 4)\n",
    "tree = {'my_array': my_array}\n",
    "\n",
    "my_big_array = np.random.rand(8, 8)\n",
    "tree['my_big_array'] = my_big_array\n",
    "\n",
    "ff = AsdfFile(tree)\n",
    "ff.set_array_storage(my_array, 'inline')\n",
    "ff.set_array_storage(my_big_array, 'external')\n",
    "ff.write_to(\"exploded_data/test_exploded.asdf\")\n",
    "\n",
    "# Or for every block:\n",
    "# ff.write_to(\"test.asdf\", all_array_storage='external')"
   ]
  },
  {
   "cell_type": "code",
   "execution_count": 34,
   "metadata": {
    "collapsed": false,
    "slideshow": {
     "slide_type": "skip"
    }
   },
   "outputs": [
    {
     "name": "stdout",
     "output_type": "stream",
     "text": [
      "test_exploded.asdf      test_exploded0000.asdf\r\n"
     ]
    }
   ],
   "source": [
    "ls exploded_data/"
   ]
  },
  {
   "cell_type": "code",
   "execution_count": 35,
   "metadata": {
    "collapsed": false,
    "slideshow": {
     "slide_type": "subslide"
    }
   },
   "outputs": [
    {
     "name": "stdout",
     "output_type": "stream",
     "text": [
      "#ASDF 1.0.0\r\n",
      "#ASDF_STANDARD 1.0.0\r\n",
      "%YAML 1.1\r\n",
      "%TAG ! tag:stsci.edu:asdf/\r\n",
      "--- !core/asdf-1.0.0\r\n",
      "asdf_library: !core/software-1.0.0 {author: Space Telescope Science Institute, homepage: 'http://github.com/spacetelescope/asdf',\r\n",
      "  name: asdf, version: 1.1.0}\r\n",
      "my_array: !core/ndarray-1.0.0\r\n",
      "  data:\r\n",
      "  - [0.5692266677107335, 0.15130631802177097, 0.47130375299595606, 0.41078261676298844]\r\n",
      "  - [0.6172845590606234, 0.38521795030966643, 0.2380731102351069, 0.5642219882253369]\r\n",
      "  - [0.4135472637118681, 0.6735411057601441, 0.46484849720818966, 0.23949691397551498]\r\n",
      "  datatype: float64\r\n",
      "  shape: [3, 4]\r\n",
      "my_big_array: !core/ndarray-1.0.0\r\n",
      "  source: test_exploded0000.asdf\r\n",
      "  datatype: float64\r\n",
      "  byteorder: little\r\n",
      "  shape: [8, 8]\r\n",
      "...\r\n"
     ]
    }
   ],
   "source": [
    "cat exploded_data/test_exploded.asdf"
   ]
  },
  {
   "cell_type": "code",
   "execution_count": 36,
   "metadata": {
    "collapsed": false,
    "slideshow": {
     "slide_type": "subslide"
    }
   },
   "outputs": [
    {
     "name": "stdout",
     "output_type": "stream",
     "text": [
      "#ASDF 1.0.0\r\n",
      "#ASDF_STANDARD 1.0.0\r\n",
      "%YAML 1.1\r\n",
      "%TAG ! tag:stsci.edu:asdf/\r\n",
      "--- !core/asdf-1.0.0\r\n",
      "asdf_library: !core/software-1.0.0 {author: Space Telescope Science Institute, homepage: 'http://github.com/spacetelescope/asdf',\r\n",
      "  name: asdf, version: 1.1.0}\r\n",
      "...\r\n",
      "�BLK\u00000\u0000\u0000\u0000\u0000\u0000\u0000\u0000\u0000\u0000\u0000\u0000\u0000\u0000\u0000\u0002\u0000\u0000\u0000\u0000\u0000\u0000\u0000\u0002\u0000\u0000\u0000\u0000\u0000\u0000\u0000\u0002\u0000����z�q6���(A\u0001�^���b=�?~���\u0000&�?`M�/���?�-\u0006�\u000b",
      "��?dp��b0�?� �����?�\bx4���?�!N�\u001b�?P_\b�꒪?\u000b",
      "�\u0014�E\u0005�?HCB\u0011S6�?8\u0015�\u0005&:�?��\u0015�ʸ�?��\u0004R�Z�?�����[�?-5�,f��?�\u001d",
      "�\r\n",
      "\u001e",
      "N�?�\u0016��?��?@�!\u0012K\r\n",
      "�?L\t�T��?f-�+T��?�R�[N��?4\b�ġ1�?h-��9��?A\u000e��'\u0016�?�etx�>�?\u001d",
      "�q��-�?�\u0018��Er�?���|��?&�b�`~�?P\u0011\u001c",
      "s�~�?8{�$٧�?&��\u0003T��?�\u0016���&�?�<\u0000tOU�?�~�Ѭ\u001e",
      "�?}\u00101�l,�?dΜ\\d\r",
      "�?FN�Nn>�?��D\u0003��?�����_�?�\u0003P�\u00074�?\b�|\u0001U��?���>��?�\u001b��+k�?����L^�?���d��?솂˧J�?��\u0001�+��?�!�]I�?@#`Fbg�?p� #�\u0013�?�\u0011Z��\u001f�?�@=����? (f��4�?b8�#%}�?����!u�?�d^\u0006j��?*<\u001b=j��?>�\u0002�ڛ�?��J�r��?8.y\\��?pK0`\u000f��?J\u0005�:ɮ�?#ASDF BLOCK INDEX\r\n",
      "%YAML 1.1\r\n",
      "--- [255]\r\n",
      "...\r\n"
     ]
    }
   ],
   "source": [
    "cat exploded_data/test_exploded0000.asdf"
   ]
  },
  {
   "cell_type": "markdown",
   "metadata": {
    "slideshow": {
     "slide_type": "slide"
    }
   },
   "source": [
    "# Data Provenance"
   ]
  },
  {
   "cell_type": "code",
   "execution_count": null,
   "metadata": {
    "collapsed": true,
    "slideshow": {
     "slide_type": "skip"
    }
   },
   "outputs": [],
   "source": [
    "mkdir -p provenance"
   ]
  },
  {
   "cell_type": "code",
   "execution_count": 37,
   "metadata": {
    "collapsed": false,
    "slideshow": {
     "slide_type": "subslide"
    }
   },
   "outputs": [],
   "source": [
    "from asdf import AsdfFile\n",
    "import numpy as np\n",
    "\n",
    "tree = {\n",
    "    'some_random_data': np.random.rand(5, 5)\n",
    "}\n",
    "\n",
    "ff = AsdfFile(tree)\n",
    "ff.add_history_entry(\n",
    "    u\"Initial random numbers\",\n",
    "    {u'name': u'asdf examples',\n",
    "     u'author': u'John Q. Public',\n",
    "     u'homepage': u'http://github.com/spacetelescope/asdf',\n",
    "     u'version': u'0.1',\n",
    "    u'spase_dict': {u'resource_id': 5}})\n",
    "ff.write_to('provenance/provenance.asdf')"
   ]
  },
  {
   "cell_type": "code",
   "execution_count": 38,
   "metadata": {
    "collapsed": false,
    "slideshow": {
     "slide_type": "subslide"
    }
   },
   "outputs": [
    {
     "name": "stdout",
     "output_type": "stream",
     "text": [
      "#ASDF 1.0.0\r\n",
      "#ASDF_STANDARD 1.0.0\r\n",
      "%YAML 1.1\r\n",
      "%TAG ! tag:stsci.edu:asdf/\r\n",
      "--- !core/asdf-1.0.0\r\n",
      "asdf_library: !core/software-1.0.0 {author: Space Telescope Science Institute, homepage: 'http://github.com/spacetelescope/asdf',\r\n",
      "  name: asdf, version: 1.1.0}\r\n",
      "history:\r\n",
      "- !core/history_entry-1.0.0\r\n",
      "  description: Initial random numbers\r\n",
      "  software: !core/software-1.0.0\r\n",
      "    author: John Q. Public\r\n",
      "    homepage: http://github.com/spacetelescope/asdf\r\n",
      "    name: asdf examples\r\n",
      "    spase_dict: {resource_id: 5}\r\n",
      "    version: '0.1'\r\n",
      "  time: 2017-04-03 13:32:22.302293\r\n",
      "some_random_data: !core/ndarray-1.0.0\r\n",
      "  source: 0\r\n",
      "  datatype: float64\r\n",
      "  byteorder: little\r\n",
      "  shape: [5, 5]\r\n",
      "...\r\n",
      "�BLK\u00000\u0000\u0000\u0000\u0000\u0000\u0000\u0000\u0000\u0000\u0000\u0000\u0000\u0000\u0000\u0000�\u0000\u0000\u0000\u0000\u0000\u0000\u0000�\u0000\u0000\u0000\u0000\u0000\u0000\u0000��\u001d",
      ")��$\b�na\f",
      "G�Lu\u0005���x��?�\t\u001e",
      "�W��?\f",
      "&�=!6�?b\\���'�?�P�\u0010���?��wV0&�?���<sL�?l\u0000�\t1��?\\������?��\t�*\u0005�?h���Dw�?Oyp9���?�xǁ���?�\u0004�$`۰?���D{\t�?\u0010�Kj\r\n",
      "��?����?f�L����?*\u0011�χS�?\u0010\b\u001f\u0015[��?�e��g�?�EG]\u0016]�?�)[�e��?(�!�9��?{��̋��?#ASDF BLOCK INDEX\r\n",
      "%YAML 1.1\r\n",
      "--- [659]\r\n",
      "...\r\n"
     ]
    }
   ],
   "source": [
    "cat provenance/provenance.asdf"
   ]
  },
  {
   "cell_type": "markdown",
   "metadata": {
    "slideshow": {
     "slide_type": "slide"
    }
   },
   "source": [
    "# Compression"
   ]
  },
  {
   "cell_type": "code",
   "execution_count": null,
   "metadata": {
    "collapsed": true,
    "slideshow": {
     "slide_type": "skip"
    }
   },
   "outputs": [],
   "source": [
    "mkdir -p compression"
   ]
  },
  {
   "cell_type": "code",
   "execution_count": null,
   "metadata": {
    "collapsed": false,
    "slideshow": {
     "slide_type": "fragment"
    }
   },
   "outputs": [],
   "source": [
    "from asdf import AsdfFile\n",
    "import numpy as np\n",
    "x = np.linspace(-20, 20, 30)\n",
    "y = np.linspace(-30, 30, 50)\n",
    "xx,yy = np.meshgrid(x,y)\n",
    "tree = dict(variables = dict(x = xx,\n",
    "                             y = yy\n",
    "                            )\n",
    "           )\n",
    "ff = AsdfFile(tree)\n",
    "ff.write_to(\"compression/uncompressed_data.asdf\", all_array_compression=None)\n",
    "ff.write_to(\"compression/compressed_data.asdf\", all_array_compression='bzp2')"
   ]
  },
  {
   "cell_type": "code",
   "execution_count": null,
   "metadata": {
    "collapsed": false,
    "slideshow": {
     "slide_type": "fragment"
    }
   },
   "outputs": [],
   "source": [
    "import os\n",
    "print 'uncompressed:', os.path.getsize(\"compression/uncompressed_data.asdf\"), 'bytes'\n",
    "print 'compressed (bz2):', os.path.getsize(\"compression/compressed_data.asdf\"), 'bytes'"
   ]
  },
  {
   "cell_type": "markdown",
   "metadata": {
    "slideshow": {
     "slide_type": "slide"
    }
   },
   "source": [
    "# Custom types\n",
    "\n",
    "## Example: Astropy Time"
   ]
  },
  {
   "cell_type": "code",
   "execution_count": null,
   "metadata": {
    "collapsed": true,
    "slideshow": {
     "slide_type": "skip"
    }
   },
   "outputs": [],
   "source": [
    "mkdir -p time"
   ]
  },
  {
   "cell_type": "code",
   "execution_count": 48,
   "metadata": {
    "collapsed": true,
    "slideshow": {
     "slide_type": "fragment"
    }
   },
   "outputs": [],
   "source": [
    "from asdf import AsdfFile\n",
    "\n",
    "from astropy.time import Time \n",
    "\n",
    "astrot = Time('2016-10-3')\n",
    "\n",
    "from asdf.tags.time import TimeType\n",
    "\n",
    "tree = {'my_time': astrot}\n",
    "ff = AsdfFile(tree)\n",
    "\n",
    "ff.write_to(\"time/test_time.asdf\")\n",
    "\n",
    "ff.close()"
   ]
  },
  {
   "cell_type": "code",
   "execution_count": 49,
   "metadata": {
    "collapsed": false,
    "slideshow": {
     "slide_type": "fragment"
    }
   },
   "outputs": [
    {
     "name": "stdout",
     "output_type": "stream",
     "text": [
      "#ASDF 1.0.0\r\n",
      "#ASDF_STANDARD 1.0.0\r\n",
      "%YAML 1.1\r\n",
      "%TAG ! tag:stsci.edu:asdf/\r\n",
      "--- !core/asdf-1.0.0\r\n",
      "asdf_library: !core/software-1.0.0 {author: Space Telescope Science Institute, homepage: 'http://github.com/spacetelescope/asdf',\r\n",
      "  name: asdf, version: 1.1.0}\r\n",
      "my_time: !time/time-1.0.0 '2016-10-03 00:00:00.000'\r\n",
      "...\r\n"
     ]
    }
   ],
   "source": [
    "cat time/test_time.asdf"
   ]
  },
  {
   "cell_type": "markdown",
   "metadata": {
    "slideshow": {
     "slide_type": "subslide"
    }
   },
   "source": [
    "verify that time matches astropy type"
   ]
  },
  {
   "cell_type": "code",
   "execution_count": 53,
   "metadata": {
    "collapsed": false,
    "slideshow": {
     "slide_type": "fragment"
    }
   },
   "outputs": [
    {
     "data": {
      "text/plain": [
       "True"
      ]
     },
     "execution_count": 53,
     "metadata": {},
     "output_type": "execute_result"
    }
   ],
   "source": [
    "sample_time =  AsdfFile.open('time/test_time.asdf')\n",
    "\n",
    "my_time = sample_time.tree['my_time']\n",
    "\n",
    "type(my_time) == type(astrot)"
   ]
  },
  {
   "cell_type": "markdown",
   "metadata": {
    "slideshow": {
     "slide_type": "slide"
    }
   },
   "source": [
    "### Units\n",
    "\n",
    "ASDF is capable of storing scientific units via astropy schemas."
   ]
  },
  {
   "cell_type": "code",
   "execution_count": null,
   "metadata": {
    "collapsed": true,
    "slideshow": {
     "slide_type": "skip"
    }
   },
   "outputs": [],
   "source": [
    "mkdir -p units"
   ]
  },
  {
   "cell_type": "code",
   "execution_count": 65,
   "metadata": {
    "collapsed": false,
    "slideshow": {
     "slide_type": "subslide"
    }
   },
   "outputs": [
    {
     "data": {
      "text/latex": [
       "$\\mathrm{\\frac{kg}{cm^{3}}}$"
      ],
      "text/plain": [
       "Unit(\"kg / cm3\")"
      ]
     },
     "execution_count": 65,
     "metadata": {},
     "output_type": "execute_result"
    }
   ],
   "source": [
    "from astropy import units as u\n",
    "\n",
    "rho_unit = u.kg*u.cm**-3\n",
    "density = np.linspace(0, 11, 5)*rho_unit\n",
    "density.unit"
   ]
  },
  {
   "cell_type": "code",
   "execution_count": 71,
   "metadata": {
    "collapsed": false,
    "slideshow": {
     "slide_type": "fragment"
    }
   },
   "outputs": [],
   "source": [
    "from asdf import AsdfFile\n",
    "\n",
    "tree = dict(variables=dict(density = dict(data=density.value, unit = density.unit)))\n",
    "           \n",
    "ff = AsdfFile(tree)\n",
    "ff.set_array_storage(density, 'inline')\n",
    "ff.write_to(\"units/units_test.asdf\", all_array_compression=None)\n",
    "ff.close()"
   ]
  },
  {
   "cell_type": "code",
   "execution_count": 72,
   "metadata": {
    "collapsed": false,
    "slideshow": {
     "slide_type": "fragment"
    }
   },
   "outputs": [
    {
     "name": "stdout",
     "output_type": "stream",
     "text": [
      "#ASDF 1.0.0\r\n",
      "#ASDF_STANDARD 1.0.0\r\n",
      "%YAML 1.1\r\n",
      "%TAG ! tag:stsci.edu:asdf/\r\n",
      "--- !core/asdf-1.0.0\r\n",
      "asdf_library: !core/software-1.0.0 {author: Space Telescope Science Institute, homepage: 'http://github.com/spacetelescope/asdf',\r\n",
      "  name: asdf, version: 1.1.0}\r\n",
      "variables:\r\n",
      "  density:\r\n",
      "    data: !core/ndarray-1.0.0\r\n",
      "      data: [0.0, 2.75, 5.5, 8.25, 11.0]\r\n",
      "      datatype: float64\r\n",
      "      shape: [5]\r\n",
      "    unit: !unit/unit-1.0.0 'cm-3 kg'\r\n",
      "...\r\n"
     ]
    }
   ],
   "source": [
    "cat units/units_test.asdf"
   ]
  },
  {
   "cell_type": "markdown",
   "metadata": {
    "slideshow": {
     "slide_type": "subslide"
    }
   },
   "source": [
    "verify variables load - comes as dictionary"
   ]
  },
  {
   "cell_type": "code",
   "execution_count": 75,
   "metadata": {
    "collapsed": false,
    "slideshow": {
     "slide_type": "fragment"
    }
   },
   "outputs": [
    {
     "data": {
      "text/plain": [
       "{u'data': array([  0.  ,   2.75,   5.5 ,   8.25,  11.  ]),\n",
       " u'unit': Unit(\"kg / cm3\")}"
      ]
     },
     "execution_count": 75,
     "metadata": {},
     "output_type": "execute_result"
    }
   ],
   "source": [
    "units_file =  AsdfFile.open('units/units_test.asdf')\n",
    "rho = units_file.tree['variables']['density']\n",
    "rho"
   ]
  },
  {
   "cell_type": "markdown",
   "metadata": {
    "slideshow": {
     "slide_type": "fragment"
    }
   },
   "source": [
    "It would be nice to define a schema for quantities, so that they would load as astropy arrays with units!"
   ]
  },
  {
   "cell_type": "markdown",
   "metadata": {
    "slideshow": {
     "slide_type": "slide"
    }
   },
   "source": [
    "# Extending ASDF schema\n",
    "\n",
    "> ASDF is designed to be extensible so outside teams can add their own types and structures while retaining compatibility with tools that don’t understand those conventions.\n",
    "\n",
    "\n",
    "https://github.com/STScI-JWST/jwst/tree/master/jwst/datamodels/schemas"
   ]
  }
 ],
 "metadata": {
  "anaconda-cloud": {},
  "celltoolbar": "Slideshow",
  "kernelspec": {
   "display_name": "Python 2",
   "language": "python",
   "name": "python2"
  },
  "language_info": {
   "codemirror_mode": {
    "name": "ipython",
    "version": 2
   },
   "file_extension": ".py",
   "mimetype": "text/x-python",
   "name": "python",
   "nbconvert_exporter": "python",
   "pygments_lexer": "ipython2",
   "version": "2.7.11"
  }
 },
 "nbformat": 4,
 "nbformat_minor": 0
}
